{
 "cells": [
  {
   "cell_type": "code",
   "execution_count": 8,
   "metadata": {},
   "outputs": [
    {
     "name": "stdout",
     "output_type": "stream",
     "text": [
      "False\n"
     ]
    }
   ],
   "source": [
    "from Car import Car\n",
    "\n",
    "\n",
    "c = Car('horizontal', '10', '20', 95)\n",
    "\n",
    "print(c.isVertical())"
   ]
  },
  {
   "cell_type": "code",
   "execution_count": null,
   "metadata": {},
   "outputs": [],
   "source": [
    "\"\"\"\n",
    "1) Setup grid\n",
    "2) Parse file\n",
    "3) Loop through all examples\n",
    "    a) for each example run UCS, GBFS, A*\n",
    "    b) generate files\n",
    "\"\"\""
   ]
  }
 ],
 "metadata": {
  "kernelspec": {
   "display_name": "Python 3.9.11 64-bit ('3.9.11')",
   "language": "python",
   "name": "python3"
  },
  "language_info": {
   "codemirror_mode": {
    "name": "ipython",
    "version": 3
   },
   "file_extension": ".py",
   "mimetype": "text/x-python",
   "name": "python",
   "nbconvert_exporter": "python",
   "pygments_lexer": "ipython3",
   "version": "3.9.11"
  },
  "orig_nbformat": 4,
  "vscode": {
   "interpreter": {
    "hash": "d90f6532268e2ba1d590c7b6dcde19dbe5a019d98f28c6ea6710d1da3d032104"
   }
  }
 },
 "nbformat": 4,
 "nbformat_minor": 2
}
