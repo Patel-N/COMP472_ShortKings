{
 "cells": [
  {
   "cell_type": "code",
   "execution_count": null,
   "id": "7340f202",
   "metadata": {},
   "outputs": [],
   "source": [
    "import warnings\n",
    "\n",
    "warnings.filterwarnings(\"ignore\", category=DeprecationWarning) \n",
    "warnings.simplefilter(\"ignore\") \n",
    "\n",
    "from matplotlib import test\n",
    "from sklearn.feature_extraction.text import CountVectorizer\n",
    "from sklearn.model_selection import GridSearchCV, train_test_split\n",
    "from sklearn.naive_bayes import MultinomialNB\n",
    "from sklearn.tree import DecisionTreeClassifier\n",
    "from sklearn.neural_network import MLPClassifier\n",
    "from sklearn.metrics import confusion_matrix\n",
    "from collections import Counter\n",
    "from nltk import word_tokenize\n",
    "\n",
    "\n",
    "import gensim.downloader as api\n",
    "import json\n",
    "import matplotlib.pyplot as plt\n",
    "import gzip\n",
    "import pandas as pd\n",
    "import copy\n",
    "import os\n",
    "import numpy as np\n",
    "import nltk, re, pprint \n",
    "#from pretty_confusion_matrix import pp_matrix_from_data"
   ]
  },
  {
   "cell_type": "markdown",
   "id": "2f3e2d89",
   "metadata": {},
   "source": [
    "# Part 1"
   ]
  },
  {
   "cell_type": "code",
   "execution_count": null,
   "id": "00609551",
   "metadata": {},
   "outputs": [],
   "source": [
    "sentiments = []\n",
    "emotions = []\n",
    "comments = []\n",
    "\n",
    "commentsTrainVector = None\n",
    "commentsTestVector = None"
   ]
  },
  {
   "cell_type": "code",
   "execution_count": null,
   "id": "0fb67324",
   "metadata": {},
   "outputs": [],
   "source": [
    "#1.2\n",
    "emotionsGZIP = gzip.open(\"./goemotions.json.gz\", \"rb\")\n",
    "emotionsJSON = json.load(emotionsGZIP)"
   ]
  },
  {
   "cell_type": "code",
   "execution_count": null,
   "id": "0fa7f22b",
   "metadata": {},
   "outputs": [],
   "source": [
    "def createPieChart(dict, dictName):\n",
    "    labels = []\n",
    "    values = []\n",
    "    for x,y in dict.items():\n",
    "        labels.append(x)\n",
    "        values.append(y)\n",
    "    plt.pie(values, labels=labels, autopct=lambda p:f'{p:.2f}%, {p*sum(values)/100 :.0f}')\n",
    "    plt.savefig(fname='./graphs/'+dictName+'.pdf', format='pdf')\n",
    "    plt.clf()\n",
    "    "
   ]
  },
  {
   "cell_type": "code",
   "execution_count": null,
   "id": "aba4719b",
   "metadata": {},
   "outputs": [],
   "source": [
    "#1.3\n",
    "for value in emotionsJSON:\n",
    "        emotions.append(value[1])\n",
    "        sentiments.append(value[2])\n",
    "        comments.append(value[0])\n",
    "\n",
    "createPieChart(Counter(emotions), 'emotions_with_values')\n",
    "createPieChart(Counter(sentiments), 'sentiments_with_values')"
   ]
  },
  {
   "cell_type": "markdown",
   "id": "b360d3f1",
   "metadata": {},
   "source": [
    "# Part 2"
   ]
  },
  {
   "cell_type": "code",
   "execution_count": null,
   "id": "7fe3132c",
   "metadata": {},
   "outputs": [],
   "source": [
    "#2.1\n",
    "vectorizer = CountVectorizer()\n",
    "X  = vectorizer.fit(comments)\n",
    "print(\"Vocabulary size: \", len(X.vocabulary_))"
   ]
  },
  {
   "cell_type": "code",
   "execution_count": null,
   "id": "a92d22bd",
   "metadata": {},
   "outputs": [],
   "source": [
    "#2.2\n",
    "comments_train, comments_test, sentiments_train, sentiments_test, emotions_train, emotions_test = train_test_split(comments, sentiments, emotions, test_size=0.2, random_state=0)"
   ]
  },
  {
   "cell_type": "markdown",
   "id": "ea451870",
   "metadata": {},
   "source": [
    "## 2.3"
   ]
  },
  {
   "cell_type": "code",
   "execution_count": null,
   "id": "82dc48d8",
   "metadata": {},
   "outputs": [],
   "source": [
    "#2.3\n",
    "vectorizer = CountVectorizer()\n",
    "commentsTrainVector = vectorizer.fit_transform(comments_train)\n",
    "commentsTestVector = vectorizer.transform(comments_test)\n",
    "\n",
    "\n",
    "def getBaseClassifiersPredictions(classifier, commentsTrainVector, commentsTestVector, sentiments_train, emotions_train):\n",
    "\n",
    "    #emotions\n",
    "    classifier.fit(commentsTrainVector, emotions_train)\n",
    "    emotions_classifier = copy.deepcopy(classifier)\n",
    "    emotions_pred = classifier.predict(commentsTestVector)\n",
    "    print(emotions_pred)\n",
    "\n",
    "    #sentiments\n",
    "    classifier.fit(commentsTrainVector, sentiments_train)\n",
    "    sentiments_classifier = copy.deepcopy(classifier)\n",
    "    sentiments_pred = classifier.predict(commentsTestVector)\n",
    "    print(sentiments_pred)\n",
    "\n",
    "    return emotions_pred, sentiments_pred, emotions_classifier, sentiments_classifier\n",
    "\n",
    "def getGridSearchWithModelAndParams(model, params, cvCount, jobs, commentsTrainVector, commentsTestVector, sentiments_train, emotions_train):\n",
    "    #Setup GridSearch and hyperparams\n",
    "    tunedClassifier = GridSearchCV(model, params, cv=cvCount, n_jobs=jobs)\n",
    "    hyperparams = list(params.keys())\n",
    "    hyperparamsWithParams = ['param_' + paramInList for paramInList in hyperparams]\n",
    "    \n",
    "    #emotions\n",
    "    tunedClassifier.fit(commentsTrainVector, emotions_train)\n",
    "    emotions_tunedClassifier = copy.deepcopy(tunedClassifier)\n",
    "    emotions_cv_results = tunedClassifier.cv_results_\n",
    "    df = pd.DataFrame(emotions_cv_results)\n",
    "    \n",
    "    emotions_pred = tunedClassifier.predict(commentsTestVector)\n",
    "    \n",
    "    print(df[hyperparamsWithParams])\n",
    "    print(tunedClassifier.best_score_)\n",
    "    print(tunedClassifier.best_params_)\n",
    "    print(tunedClassifier.predict(commentsTestVector))\n",
    "\n",
    "    #sentiments\n",
    "    tunedClassifier.fit(commentsTrainVector, sentiments_train)\n",
    "    sentiments_tunedClassifier = copy.deepcopy(tunedClassifier)\n",
    "    sentiments_cv_results = tunedClassifier.cv_results_\n",
    "    df = pd.DataFrame(sentiments_cv_results)\n",
    "\n",
    "    sentiments_pred = tunedClassifier.predict(commentsTestVector)\n",
    "    \n",
    "    print(df[hyperparamsWithParams])\n",
    "    print(tunedClassifier.best_score_)\n",
    "    print(tunedClassifier.best_params_)\n",
    "    print(tunedClassifier.predict(commentsTestVector))\n",
    "\n",
    "    return emotions_pred, sentiments_pred, emotions_tunedClassifier, sentiments_tunedClassifier"
   ]
  },
  {
   "cell_type": "code",
   "execution_count": null,
   "id": "4aac1191",
   "metadata": {},
   "outputs": [],
   "source": [
    "#2.3.1\n",
    "emotions_baseMNB_pred, sentiments_baseMNB_pred, emotions_baseMNB_classifier, sentiments_baseMNB_classifier = getBaseClassifiersPredictions(MultinomialNB(), commentsTrainVector, commentsTestVector, sentiments_train, emotions_train)"
   ]
  },
  {
   "cell_type": "code",
   "execution_count": null,
   "id": "e17eca98",
   "metadata": {},
   "outputs": [],
   "source": [
    "#2.3.2\n",
    "# emotions_baseDT_pred, sentiment_baseDT_pred, emotions_baseDT_classifier, sentiments_baseDT_classifier = getBaseClassifiersPredictions(DecisionTreeClassifier(), commentsTrainVector, commentsTestVector, sentiments_train, emotions_train)"
   ]
  },
  {
   "cell_type": "code",
   "execution_count": null,
   "id": "98ddcc5b",
   "metadata": {},
   "outputs": [],
   "source": [
    "#2.3.3\n",
    "# emotions_baseMLP_pred, sentiment_baseMLP_pred, emotions_baseMLP_classifier, sentiments_baseMLP_classifier = getBaseClassifiersPredictions(MLPClassifier(max_iter=2), commentsTrainVector, commentsTestVector, sentiments_train, emotions_train)"
   ]
  },
  {
   "cell_type": "code",
   "execution_count": null,
   "id": "c7d12165",
   "metadata": {},
   "outputs": [],
   "source": [
    " #2.3.4\n",
    "mnb_classifier = MultinomialNB()\n",
    "mnb_params = {\n",
    "    'alpha': [0, 0.5, 1, 10]\n",
    "    }\n",
    "# emotions_topMNB_pred, sentiments_topMNB_pred, emotions_topMNB_tunedClassifier, sentiments_topMNB_tunedClassifier = getGridSearchWithModelAndParams(mnb_classifier, mnb_params, 10, 2, commentsTrainVector, commentsTestVector, sentiments_train, emotions_train)"
   ]
  },
  {
   "cell_type": "code",
   "execution_count": null,
   "id": "2c1d633b",
   "metadata": {},
   "outputs": [],
   "source": [
    "#2.3.5\n",
    "dt_classifier = DecisionTreeClassifier()\n",
    "dt_params = {\n",
    "    'criterion': ['gini', 'entropy'], # explain why gini or entropy https://quantdare.com/decision-trees-gini-vs-entropy/\n",
    "    'max_depth': [2, 5],\n",
    "    'min_samples_split': [1,2,3]\n",
    "}\n",
    "# emotions_topDT_pred, sentiments_topDT_pred, emotions_topDT_tunedClassifier, sentiments_topDT_tunedClassifier = getGridSearchWithModelAndParams(dt_classifier, dt_params, 5, 2, commentsTrainVector, commentsTestVector, sentiments_train, emotions_train)"
   ]
  },
  {
   "cell_type": "code",
   "execution_count": null,
   "id": "fad18fe7",
   "metadata": {},
   "outputs": [],
   "source": [
    "#2.3.6\n",
    "mlp_classifier = MLPClassifier(max_iter = 1)\n",
    "mlp_params = {\n",
    "    'activation': ['logistic', 'tanh', 'relu', 'identity'],\n",
    "    'hidden_layer_sizes': [(10, 30), (5,5,5)],\n",
    "    'solver': ['adam', 'sgd']\n",
    "    }\n",
    "# emotions_topMLP_pred, sentiments_topMLP_pred, emotions_topMLP_tunedClassifier, sentiments_topMLP_tunedClassifier = getGridSearchWithModelAndParams(mlp_classifier, mlp_params, 5, 2, commentsTrainVector, commentsTestVector, sentiments_train, emotions_train)"
   ]
  },
  {
   "cell_type": "markdown",
   "id": "61b0e108",
   "metadata": {},
   "source": [
    "## 2.4"
   ]
  },
  {
   "cell_type": "code",
   "execution_count": null,
   "id": "b7d11c66",
   "metadata": {},
   "outputs": [],
   "source": [
    "from sklearn.metrics import plot_confusion_matrix\n",
    "\n",
    "\n",
    "def createNewFile(fName):\n",
    "    i = 0\n",
    "    fullFileName = \"./precision/\"+fName+\"_%s.txt\"\n",
    "    while os.path.exists( fullFileName % i):\n",
    "        i += 1\n",
    "\n",
    "    fh = open(fullFileName % i, \"w\")\n",
    "    return fh\n",
    "\n",
    "def generateConfusionMatrix(clf, X_test, y_test):\n",
    "    # confusionMatrix = confusion_matrix(y_test, y_pred)\n",
    "    # # print(confusionMatrix.shape)\n",
    "    # print(len(set(y_test)))\n",
    "    # print(len(set(y_pred)))\n",
    "    # # print(len(y_pred))\n",
    "    # # print(pp_matrix_from_data(y_test, y_pred))\n",
    "    # return confusionMatrix\n",
    "    plot_confusion_matrix(clf, X_test, y_test)\n",
    "    plt.show()\n",
    "\n",
    "\n",
    "def createPrecisionReport(fName, modelName=None, hyperParams=None, emotions_pred=None, sentiments_pred=None, emotions_classifier=None, sentiments_classifier=None):\n",
    "    file = createNewFile(fName)\n",
    "\n",
    "    file.write('Model: \\t'+modelName+'\\n')\n",
    "    file.write('HyperParams: \\n')\n",
    "    if hyperParams is not None:\n",
    "        file.write(json.dumps(hyperParams, indent=4)+'\\n')\n",
    "    file.write('\\n')\n",
    "    file.write('Classifications: Emotions\\n')\n",
    "    file.write(np.array2string(generateConfusionMatrix(emotions_test, emotions_pred)))\n",
    "\n",
    "\n",
    "\n",
    "    file.close()\n",
    "\n",
    "\n",
    "# https://www.educative.io/answers/how-to-create-a-confusion-matrix-in-python-using-scikit-learn"
   ]
  },
  {
   "cell_type": "code",
   "execution_count": null,
   "id": "e2069c82",
   "metadata": {},
   "outputs": [],
   "source": [
    "#BaseMNB\n",
    "generateConfusionMatrix(emotions_baseMNB_classifier, comments_test, emotions_test)\n",
    "# createPrecisionReport(\"baseMNB\", modelName = \"base_MultinomialNB\", hyperParams=mlp_params, emotions_pred = emotions_baseMNB_pred, sentiments_pred = sentiments_baseMNB_pred, emotions_classifier = emotions_baseMNB_classifier, sentiments_classifier = sentiments_baseMNB_classifier)"
   ]
  },
  {
   "cell_type": "code",
   "execution_count": null,
   "id": "ec275b6e",
   "metadata": {},
   "outputs": [],
   "source": [
    "# 3.1\n",
    "\n",
    "model = api.load(\"word2vec-google-news-300\")"
   ]
  },
  {
   "cell_type": "code",
   "execution_count": null,
   "id": "14cf3584",
   "metadata": {},
   "outputs": [],
   "source": [
    "#pip install -U nltk\n",
    "#python -m nltk.downloader all\n",
    "#allComments = ' '.join(comments)\n",
    "#word_tokenize(allComments)\n",
    "\n",
    "print(model.index_to_key[11] , \" \" ,model['the'])"
   ]
  },
  {
   "cell_type": "code",
   "execution_count": null,
   "id": "fe698e10",
   "metadata": {},
   "outputs": [],
   "source": [
    "\n",
    "\n",
    "avgs = []\n",
    "index = 0\n",
    "for word, matrix in zip(model.index_to_key, model):\n",
    "    print(index)\n",
    "    y = []\n",
    "    for comment in comments:\n",
    "        if (word in comment):\n",
    "            y.append(matrix)\n",
    "    avgs.append(np.mean(y, axis=0))\n",
    "    index += 1\n",
    "\n",
    "print(avgs)\n"
   ]
  },
  {
   "cell_type": "code",
   "execution_count": null,
   "id": "c68e7c2a",
   "metadata": {},
   "outputs": [],
   "source": [
    "import nltk"
   ]
  },
  {
   "cell_type": "code",
   "execution_count": null,
   "id": "ffab25ec",
   "metadata": {},
   "outputs": [],
   "source": [
    "from nltk.tokenize import word_tokenize\n",
    "\n",
    "tokenized_comments = []\n",
    "totalToken = 0\n",
    "\n",
    "for comment in comments:\n",
    "    tokenized_comments.append(word_tokenize(comment))\n",
    "    totalToken = totalToken + len(tokenized_comments)\n",
    "\n",
    "print('Total token count: ', totalToken)\n",
    "print(len(tokenized_comments))\n",
    "\n",
    "    "
   ]
  },
  {
   "cell_type": "code",
   "execution_count": null,
   "id": "3f963410",
   "metadata": {},
   "outputs": [],
   "source": [
    "avgs = []\n",
    "w2vec_dict = dict(zip(model.key_to_index.keys(),  model.vectors))\n",
    "\n",
    "for soloTokenComment in tokenized_comments:\n",
    "    commentVector = []\n",
    "    foundCounter = 0\n",
    "    commentVector = [0 for i in range(300)]\n",
    "    print(index)\n",
    "    for token in soloTokenComment:\n",
    "        if token in w2vec_dict:\n",
    "            foundCounter = foundCounter + 1\n",
    "            commentVector = [x+y for x,y in zip(commentVector,w2vec_dict[token])]\n",
    "    \n",
    "    if foundCounter != 0: \n",
    "        averagedCommentVector = [colVal / foundCounter for colVal in commentVector]\n",
    "    \n",
    "    avgs.append(commentVector)\n"
   ]
  },
  {
   "cell_type": "code",
   "execution_count": null,
   "id": "80b41f7d",
   "metadata": {},
   "outputs": [],
   "source": [
    "print(avgs)"
   ]
  }
 ],
 "metadata": {
  "kernelspec": {
   "display_name": "Python 3 (ipykernel)",
   "language": "python",
   "name": "python3"
  },
  "language_info": {
   "codemirror_mode": {
    "name": "ipython",
    "version": 3
   },
   "file_extension": ".py",
   "mimetype": "text/x-python",
   "name": "python",
   "nbconvert_exporter": "python",
   "pygments_lexer": "ipython3",
   "version": "3.8.10"
  },
  "vscode": {
   "interpreter": {
    "hash": "bc05976250482631599237727c637934d24d0a51fd13fddcdedff10741267602"
   }
  }
 },
 "nbformat": 4,
 "nbformat_minor": 5
}
