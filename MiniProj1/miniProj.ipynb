{
 "cells": [
  {
   "cell_type": "code",
   "execution_count": 2,
   "metadata": {},
   "outputs": [],
   "source": [
    "import warnings\n",
    "\n",
    "warnings.filterwarnings(\"ignore\", category=DeprecationWarning) \n",
    "warnings.simplefilter(\"ignore\") \n",
    "\n",
    "from matplotlib import test\n",
    "from sklearn.feature_extraction.text import CountVectorizer\n",
    "from sklearn.model_selection import GridSearchCV, train_test_split\n",
    "from sklearn.naive_bayes import MultinomialNB\n",
    "from sklearn.tree import DecisionTreeClassifier\n",
    "from sklearn.neural_network import MLPClassifier\n",
    "from collections import Counter\n",
    "\n",
    "import json\n",
    "import matplotlib.pyplot as plt\n",
    "import gzip\n",
    "import pandas as pd"
   ]
  },
  {
   "cell_type": "code",
   "execution_count": 3,
   "metadata": {},
   "outputs": [],
   "source": [
    "emotionsGZIP = gzip.open(\"./goemotions.json.gz\", \"rb\")\n",
    "emotionsJSON = json.load(emotionsGZIP)\n",
    "\n",
    "classification = []\n",
    "emotions = []\n",
    "comments = []\n",
    "\n",
    "commentsTrainVector = None\n",
    "commentsTestVector = None"
   ]
  },
  {
   "cell_type": "code",
   "execution_count": 4,
   "metadata": {},
   "outputs": [],
   "source": [
    "def createPieChart(dict, dictName):\n",
    "    labels = []\n",
    "    values = []\n",
    "    for x,y in dict.items():\n",
    "        labels.append(x)\n",
    "        values.append(y)\n",
    "    plt.pie(values, labels=labels, autopct=lambda p:f'{p:.2f}%, {p*sum(values)/100 :.0f}')\n",
    "    plt.savefig('./graphs/'+dictName)\n",
    "    plt.clf()\n",
    "\n",
    "\n",
    "def readData():\n",
    "    for value in emotionsJSON:\n",
    "        emotions.append(value[1])\n",
    "        classification.append(value[2])\n",
    "        comments.append(value[0])"
   ]
  },
  {
   "cell_type": "code",
   "execution_count": 5,
   "metadata": {},
   "outputs": [],
   "source": [
    "def run_q1():\n",
    "    createPieChart(Counter(emotions), 'emotions_with_values')\n",
    "    createPieChart(Counter(classification), 'classification_with_values')"
   ]
  },
  {
   "cell_type": "code",
   "execution_count": 31,
   "metadata": {},
   "outputs": [],
   "source": [
    "def getVocabulary():\n",
    "    vectorizer = CountVectorizer()\n",
    "    X  = vectorizer.fit(comments)\n",
    "    print(\"Vocabulary size: \", len(X.vocabulary_))\n",
    "\n",
    "def createTrainTestSplit():\n",
    "    global comments_train\n",
    "    global comments_test\n",
    "    global classification_train\n",
    "    global classification_test\n",
    "    global emotions_train\n",
    "    global emotions_test\n",
    "    comments_train, comments_test, classification_train, classification_test, emotions_train, emotions_test = train_test_split(comments, classification, emotions, test_size=0.2, random_state=0)\n",
    "    \n",
    "    \n",
    "def getBaseClassifiersPredictions(classifier, commentsTrainVector, commentsTestVector, classification_train, emotions_train):\n",
    "\n",
    "    #emotions\n",
    "    classifier.fit(commentsTrainVector, emotions_train)\n",
    "    emotions_pred = classifier.predict(commentsTestVector)\n",
    "    print(emotions_pred)\n",
    "\n",
    "    #classifications\n",
    "    classifier.fit(commentsTrainVector, classification_train)\n",
    "    classifications_pred = classifier.predict(commentsTestVector)\n",
    "    print(classifications_pred)\n",
    "\n",
    "    return emotions_pred, classifications_pred\n",
    "\n",
    "def getGridSearchWithModelAndParams(model, params, cvCount, iterations, commentsTrainVector, commentsTestVector, classification_train, emotions_train):\n",
    "    tunedClassifier = GridSearchCV(model, params, cv=10, n_jobs=2)\n",
    "    hyperparams = list(params.keys())\n",
    "    hyperparamsWithParams = ['param_' + paramInList for paramInList in hyperparams]\n",
    "    \n",
    "    #emotions\n",
    "    tunedClassifier.fit(commentsTrainVector, emotions_train)\n",
    "    df = pd.DataFrame(tunedClassifier.cv_results_)\n",
    "    \n",
    "    emotions_pred = tunedClassifier.predict(commentsTestVector)\n",
    "    \n",
    "    print(df[hyperparamsWithParams])\n",
    "    print(tunedClassifier.best_score_)\n",
    "    print(tunedClassifier.best_params_)\n",
    "    print(tunedClassifier.predict(commentsTestVector))\n",
    "\n",
    "    #classifications\n",
    "    tunedClassifier.fit(commentsTrainVector, classification_train)\n",
    "    df = pd.DataFrame(tunedClassifier.cv_results_)\n",
    "\n",
    "    classifications_pred = tunedClassifier.predict(commentsTestVector)\n",
    "    \n",
    "    print(df[hyperparamsWithParams])\n",
    "    print(tunedClassifier.best_score_)\n",
    "    print(tunedClassifier.best_params_)\n",
    "    print(tunedClassifier.predict(commentsTestVector))\n",
    "\n",
    "    return emotions_pred, classifications_pred\n",
    "\n",
    "\n"
   ]
  },
  {
   "cell_type": "code",
   "execution_count": 7,
   "metadata": {},
   "outputs": [],
   "source": [
    "def baseMNB():\n",
    "    getBaseClassifiersPredictions(MultinomialNB(), commentsTrainVector, commentsTestVector, classification_train, emotions_train)    "
   ]
  },
  {
   "cell_type": "code",
   "execution_count": 8,
   "metadata": {},
   "outputs": [],
   "source": [
    "def baseDT():\n",
    "    getBaseClassifiersPredictions(DecisionTreeClassifier(), commentsTrainVector, commentsTestVector, classification_train, emotions_train)"
   ]
  },
  {
   "cell_type": "code",
   "execution_count": 9,
   "metadata": {},
   "outputs": [],
   "source": [
    "def baseMLP():\n",
    "    getBaseClassifiersPredictions(MLPClassifier(), commentsTrainVector, commentsTestVector, classification_train, emotions_train)"
   ]
  },
  {
   "cell_type": "code",
   "execution_count": 13,
   "metadata": {},
   "outputs": [],
   "source": [
    "def run_q2():\n",
    "    #2.1\n",
    "    getVocabulary()\n",
    "\n",
    "    #2.2\n",
    "    createTrainTestSplit()\n",
    "    \n",
    "    #2.3\n",
    "    vectorizer = CountVectorizer()\n",
    "    global commentsTrainVector\n",
    "    global commentsTestVector\n",
    "\n",
    "    commentsTrainVector = vectorizer.fit_transform(comments_train)\n",
    "    commentsTestVector = vectorizer.transform(comments_test)\n",
    "\n",
    "    #2.3.1\n",
    "    # baseMNB()\n",
    "    \n",
    "    #2.3.2\n",
    "    # baseDT()\n",
    "    \n",
    "    #2.3.3\n",
    "    # baseMLP()\n",
    "\n",
    "    #2.3.4\n",
    "    mnb_classifier = MultinomialNB()\n",
    "    mnb_params = {'alpha': [0, 0.5, 1, 10]}\n",
    "    # getGridSearchWithModelAndParams(mnb_classifier, mnb_params, 10, 2, commentsTrainVector, commentsTestVector, classification_train, emotions_train)\n",
    "    \n",
    "    #2.3.5\n",
    "    dt_classifier = DecisionTreeClassifier()\n",
    "    dt_params = {\n",
    "        'criterion': ['gini', 'entropy'], # explain why gini or entropy https://quantdare.com/decision-trees-gini-vs-entropy/\n",
    "        'max_depth': [2, 5],\n",
    "        'min_samples_split': [1,2,3]\n",
    "    }\n",
    "    getGridSearchWithModelAndParams(dt_classifier, dt_params, 5, 1, commentsTrainVector, commentsTestVector, classification_train, emotions_train)\n",
    "\n",
    "    #2.3.6\n",
    "    \n",
    "    mlp_params = {\n",
    "        'activation': ['logistic', 'tanh', 'relu', 'identity'],\n",
    "        'hidden_layer_sizes': [(25, 45), (10,15,20)],\n",
    "        'solver': ['adam', 'sgd']\n",
    "    }"
   ]
  },
  {
   "cell_type": "code",
   "execution_count": 32,
   "metadata": {},
   "outputs": [
    {
     "name": "stdout",
     "output_type": "stream",
     "text": [
      "Vocabulary size:  30449\n",
      "   param_criterion param_max_depth param_min_samples_split\n",
      "0             gini               2                       1\n",
      "1             gini               2                       2\n",
      "2             gini               2                       3\n",
      "3             gini               5                       1\n",
      "4             gini               5                       2\n",
      "5             gini               5                       3\n",
      "6          entropy               2                       1\n",
      "7          entropy               2                       2\n",
      "8          entropy               2                       3\n",
      "9          entropy               5                       1\n",
      "10         entropy               5                       2\n",
      "11         entropy               5                       3\n",
      "0.37798640966087393\n",
      "{'criterion': 'gini', 'max_depth': 5, 'min_samples_split': 2}\n",
      "['neutral' 'neutral' 'neutral' ... 'neutral' 'neutral' 'neutral']\n",
      "   param_criterion param_max_depth param_min_samples_split\n",
      "0             gini               2                       1\n",
      "1             gini               2                       2\n",
      "2             gini               2                       3\n",
      "3             gini               5                       1\n",
      "4             gini               5                       2\n",
      "5             gini               5                       3\n",
      "6          entropy               2                       1\n",
      "7          entropy               2                       2\n",
      "8          entropy               2                       3\n",
      "9          entropy               5                       1\n",
      "10         entropy               5                       2\n",
      "11         entropy               5                       3\n",
      "0.39830109222073284\n",
      "{'criterion': 'gini', 'max_depth': 5, 'min_samples_split': 2}\n",
      "['neutral' 'neutral' 'neutral' ... 'neutral' 'neutral' 'neutral']\n"
     ]
    }
   ],
   "source": [
    "#1.2\n",
    "readData()\n",
    "#1.3\n",
    "# run_q1()\n",
    "run_q2()"
   ]
  }
 ],
 "metadata": {
  "kernelspec": {
   "display_name": "Python 3.8.10 64-bit",
   "language": "python",
   "name": "python3"
  },
  "language_info": {
   "codemirror_mode": {
    "name": "ipython",
    "version": 3
   },
   "file_extension": ".py",
   "mimetype": "text/x-python",
   "name": "python",
   "nbconvert_exporter": "python",
   "pygments_lexer": "ipython3",
   "version": "3.8.10"
  },
  "vscode": {
   "interpreter": {
    "hash": "bc05976250482631599237727c637934d24d0a51fd13fddcdedff10741267602"
   }
  }
 },
 "nbformat": 4,
 "nbformat_minor": 5
}
