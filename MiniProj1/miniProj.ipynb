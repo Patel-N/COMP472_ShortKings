{
 "cells": [
  {
   "cell_type": "code",
   "execution_count": 1,
   "id": "7340f202",
   "metadata": {},
   "outputs": [],
   "source": [
    "import warnings\n",
    "\n",
    "warnings.filterwarnings(\"ignore\", category=DeprecationWarning) \n",
    "warnings.simplefilter(\"ignore\") \n",
    "\n",
    "from matplotlib import test\n",
    "from sklearn.feature_extraction.text import CountVectorizer\n",
    "from sklearn.model_selection import GridSearchCV, train_test_split\n",
    "from sklearn.naive_bayes import MultinomialNB\n",
    "from sklearn.tree import DecisionTreeClassifier\n",
    "from sklearn.neural_network import MLPClassifier\n",
    "from sklearn.metrics import confusion_matrix\n",
    "from collections import Counter\n",
    "from nltk import word_tokenize\n",
    "\n",
    "\n",
    "import gensim.downloader as gen\n",
    "import json\n",
    "import matplotlib.pyplot as plt\n",
    "import gzip\n",
    "import pandas as pd\n",
    "import copy\n",
    "import os\n",
    "import numpy as np\n",
    "import nltk, re, pprint \n",
    "#from pretty_confusion_matrix import pp_matrix_from_data"
   ]
  },
  {
   "cell_type": "markdown",
   "id": "2f3e2d89",
   "metadata": {},
   "source": [
    "# Part 1"
   ]
  },
  {
   "cell_type": "code",
   "execution_count": 2,
   "id": "00609551",
   "metadata": {},
   "outputs": [],
   "source": [
    "sentiments = []\n",
    "emotions = []\n",
    "comments = []\n",
    "\n",
    "commentsTrainVector = None\n",
    "commentsTestVector = None"
   ]
  },
  {
   "cell_type": "code",
   "execution_count": 3,
   "id": "0fb67324",
   "metadata": {},
   "outputs": [],
   "source": [
    "#1.2\n",
    "emotionsGZIP = gzip.open(\"./goemotions.json.gz\", \"rb\")\n",
    "emotionsJSON = json.load(emotionsGZIP)"
   ]
  },
  {
   "cell_type": "code",
   "execution_count": 4,
   "id": "0fa7f22b",
   "metadata": {},
   "outputs": [],
   "source": [
    "def createPieChart(dict, dictName):\n",
    "    labels = []\n",
    "    values = []\n",
    "    for x,y in dict.items():\n",
    "        labels.append(x)\n",
    "        values.append(y)\n",
    "    plt.pie(values, labels=labels, autopct=lambda p:f'{p:.2f}%, {p*sum(values)/100 :.0f}')\n",
    "    plt.savefig(fname='./graphs/'+dictName+'.pdf', format='pdf')\n",
    "    plt.clf()\n",
    "    "
   ]
  },
  {
   "cell_type": "code",
   "execution_count": 5,
   "id": "aba4719b",
   "metadata": {},
   "outputs": [
    {
     "data": {
      "text/plain": [
       "<Figure size 640x480 with 0 Axes>"
      ]
     },
     "metadata": {},
     "output_type": "display_data"
    }
   ],
   "source": [
    "#1.3\n",
    "for value in emotionsJSON:\n",
    "        emotions.append(value[1])\n",
    "        sentiments.append(value[2])\n",
    "        comments.append(value[0])\n",
    "\n",
    "createPieChart(Counter(emotions), 'emotions_with_values')\n",
    "createPieChart(Counter(sentiments), 'sentiments_with_values')"
   ]
  },
  {
   "cell_type": "markdown",
   "id": "b360d3f1",
   "metadata": {},
   "source": [
    "# Part 2"
   ]
  },
  {
   "cell_type": "code",
   "execution_count": 6,
   "id": "7fe3132c",
   "metadata": {},
   "outputs": [
    {
     "name": "stdout",
     "output_type": "stream",
     "text": [
      "Vocabulary size:  30449\n"
     ]
    }
   ],
   "source": [
    "#2.1\n",
    "vectorizer = CountVectorizer()\n",
    "X  = vectorizer.fit(comments)\n",
    "print(\"Vocabulary size: \", len(X.vocabulary_))"
   ]
  },
  {
   "cell_type": "code",
   "execution_count": 7,
   "id": "a92d22bd",
   "metadata": {},
   "outputs": [],
   "source": [
    "#2.2\n",
    "comments_train, comments_test, sentiments_train, sentiments_test, emotions_train, emotions_test = train_test_split(comments, sentiments, emotions, test_size=0.2, random_state=0)"
   ]
  },
  {
   "cell_type": "markdown",
   "id": "ea451870",
   "metadata": {},
   "source": [
    "## 2.3"
   ]
  },
  {
   "cell_type": "code",
   "execution_count": 8,
   "id": "82dc48d8",
   "metadata": {},
   "outputs": [],
   "source": [
    "#2.3\n",
    "vectorizer = CountVectorizer()\n",
    "commentsTrainVector = vectorizer.fit_transform(comments_train)\n",
    "commentsTestVector = vectorizer.transform(comments_test)\n",
    "\n",
    "\n",
    "def getBaseClassifiersPredictions(classifier, commentsTrainVector, commentsTestVector, sentiments_train, emotions_train):\n",
    "\n",
    "    #emotions\n",
    "    classifier.fit(commentsTrainVector, emotions_train)\n",
    "    emotions_classifier = copy.deepcopy(classifier)\n",
    "    emotions_pred = classifier.predict(commentsTestVector)\n",
    "    print(emotions_pred)\n",
    "\n",
    "    #sentiments\n",
    "    classifier.fit(commentsTrainVector, sentiments_train)\n",
    "    sentiments_classifier = copy.deepcopy(classifier)\n",
    "    sentiments_pred = classifier.predict(commentsTestVector)\n",
    "    print(sentiments_pred)\n",
    "\n",
    "    return emotions_pred, sentiments_pred, emotions_classifier, sentiments_classifier\n",
    "\n",
    "def getGridSearchWithModelAndParams(model, params, cvCount, jobs, commentsTrainVector, commentsTestVector, sentiments_train, emotions_train):\n",
    "    #Setup GridSearch and hyperparams\n",
    "    tunedClassifier = GridSearchCV(model, params, cv=cvCount, n_jobs=jobs)\n",
    "    hyperparams = list(params.keys())\n",
    "    hyperparamsWithParams = ['param_' + paramInList for paramInList in hyperparams]\n",
    "    \n",
    "    #emotions\n",
    "    tunedClassifier.fit(commentsTrainVector, emotions_train)\n",
    "    emotions_tunedClassifier = copy.deepcopy(tunedClassifier)\n",
    "    emotions_cv_results = tunedClassifier.cv_results_\n",
    "    df = pd.DataFrame(emotions_cv_results)\n",
    "    \n",
    "    emotions_pred = tunedClassifier.predict(commentsTestVector)\n",
    "    \n",
    "    print(df[hyperparamsWithParams])\n",
    "    print(tunedClassifier.best_score_)\n",
    "    print(tunedClassifier.best_params_)\n",
    "    print(tunedClassifier.predict(commentsTestVector))\n",
    "\n",
    "    #sentiments\n",
    "    tunedClassifier.fit(commentsTrainVector, sentiments_train)\n",
    "    sentiments_tunedClassifier = copy.deepcopy(tunedClassifier)\n",
    "    sentiments_cv_results = tunedClassifier.cv_results_\n",
    "    df = pd.DataFrame(sentiments_cv_results)\n",
    "\n",
    "    sentiments_pred = tunedClassifier.predict(commentsTestVector)\n",
    "    \n",
    "    print(df[hyperparamsWithParams])\n",
    "    print(tunedClassifier.best_score_)\n",
    "    print(tunedClassifier.best_params_)\n",
    "    print(tunedClassifier.predict(commentsTestVector))\n",
    "\n",
    "    return emotions_pred, sentiments_pred, emotions_tunedClassifier, sentiments_tunedClassifier"
   ]
  },
  {
   "cell_type": "code",
   "execution_count": 9,
   "id": "4aac1191",
   "metadata": {},
   "outputs": [
    {
     "name": "stdout",
     "output_type": "stream",
     "text": [
      "['neutral' 'neutral' 'neutral' ... 'neutral' 'neutral' 'neutral']\n",
      "['neutral' 'neutral' 'neutral' ... 'neutral' 'neutral' 'neutral']\n"
     ]
    }
   ],
   "source": [
    "#2.3.1\n",
    "emotions_baseMNB_pred, sentiments_baseMNB_pred, emotions_baseMNB_classifier, sentiments_baseMNB_classifier = getBaseClassifiersPredictions(MultinomialNB(), commentsTrainVector, commentsTestVector, sentiments_train, emotions_train)"
   ]
  },
  {
   "cell_type": "code",
   "execution_count": 19,
   "id": "e17eca98",
   "metadata": {},
   "outputs": [],
   "source": [
    "#2.3.2\n",
    "# emotions_baseDT_pred, sentiment_baseDT_pred, emotions_baseDT_classifier, sentiments_baseDT_classifier = getBaseClassifiersPredictions(DecisionTreeClassifier(), commentsTrainVector, commentsTestVector, sentiments_train, emotions_train)"
   ]
  },
  {
   "cell_type": "code",
   "execution_count": 20,
   "id": "98ddcc5b",
   "metadata": {},
   "outputs": [],
   "source": [
    "#2.3.3\n",
    "# emotions_baseMLP_pred, sentiment_baseMLP_pred, emotions_baseMLP_classifier, sentiments_baseMLP_classifier = getBaseClassifiersPredictions(MLPClassifier(max_iter=2), commentsTrainVector, commentsTestVector, sentiments_train, emotions_train)"
   ]
  },
  {
   "cell_type": "code",
   "execution_count": 21,
   "id": "c7d12165",
   "metadata": {},
   "outputs": [],
   "source": [
    " #2.3.4\n",
    "mnb_classifier = MultinomialNB()\n",
    "mnb_params = {\n",
    "    'alpha': [0, 0.5, 1, 10]\n",
    "    }\n",
    "# emotions_topMNB_pred, sentiments_topMNB_pred, emotions_topMNB_tunedClassifier, sentiments_topMNB_tunedClassifier = getGridSearchWithModelAndParams(mnb_classifier, mnb_params, 10, 2, commentsTrainVector, commentsTestVector, sentiments_train, emotions_train)"
   ]
  },
  {
   "cell_type": "code",
   "execution_count": 22,
   "id": "2c1d633b",
   "metadata": {},
   "outputs": [],
   "source": [
    "#2.3.5\n",
    "dt_classifier = DecisionTreeClassifier()\n",
    "dt_params = {\n",
    "    'criterion': ['gini', 'entropy'], # explain why gini or entropy https://quantdare.com/decision-trees-gini-vs-entropy/\n",
    "    'max_depth': [2, 5],\n",
    "    'min_samples_split': [1,2,3]\n",
    "}\n",
    "# emotions_topDT_pred, sentiments_topDT_pred, emotions_topDT_tunedClassifier, sentiments_topDT_tunedClassifier = getGridSearchWithModelAndParams(dt_classifier, dt_params, 5, 2, commentsTrainVector, commentsTestVector, sentiments_train, emotions_train)"
   ]
  },
  {
   "cell_type": "code",
   "execution_count": 13,
   "id": "fad18fe7",
   "metadata": {},
   "outputs": [],
   "source": [
    "#2.3.6\n",
    "mlp_classifier = MLPClassifier(max_iter = 1)\n",
    "mlp_params = {\n",
    "    'activation': ['logistic', 'tanh', 'relu', 'identity'],\n",
    "    'hidden_layer_sizes': [(10, 30), (5,5,5)],\n",
    "    'solver': ['adam', 'sgd']\n",
    "    }\n",
    "# emotions_topMLP_pred, sentiments_topMLP_pred, emotions_topMLP_tunedClassifier, sentiments_topMLP_tunedClassifier = getGridSearchWithModelAndParams(mlp_classifier, mlp_params, 5, 2, commentsTrainVector, commentsTestVector, sentiments_train, emotions_train)"
   ]
  },
  {
   "cell_type": "markdown",
   "id": "61b0e108",
   "metadata": {},
   "source": [
    "## 2.4"
   ]
  },
  {
   "cell_type": "code",
   "execution_count": 35,
   "id": "b7d11c66",
   "metadata": {},
   "outputs": [],
   "source": [
    "from sklearn.metrics import plot_confusion_matrix\n",
    "\n",
    "\n",
    "def createNewFile(fName):\n",
    "    i = 0\n",
    "    fullFileName = \"./precision/\"+fName+\"_%s.txt\"\n",
    "    while os.path.exists( fullFileName % i):\n",
    "        i += 1\n",
    "\n",
    "    fh = open(fullFileName % i, \"w\")\n",
    "    return fh\n",
    "\n",
    "def generateConfusionMatrix(clf, X_test, y_test):\n",
    "    # confusionMatrix = confusion_matrix(y_test, y_pred)\n",
    "    # # print(confusionMatrix.shape)\n",
    "    # print(len(set(y_test)))\n",
    "    # print(len(set(y_pred)))\n",
    "    # # print(len(y_pred))\n",
    "    # # print(pp_matrix_from_data(y_test, y_pred))\n",
    "    # return confusionMatrix\n",
    "    plot_confusion_matrix(clf, X_test, y_test)\n",
    "    plt.show()\n",
    "\n",
    "\n",
    "def createPrecisionReport(fName, modelName=None, hyperParams=None, emotions_pred=None, sentiments_pred=None, emotions_classifier=None, sentiments_classifier=None):\n",
    "    file = createNewFile(fName)\n",
    "\n",
    "    file.write('Model: \\t'+modelName+'\\n')\n",
    "    file.write('HyperParams: \\n')\n",
    "    if hyperParams is not None:\n",
    "        file.write(json.dumps(hyperParams, indent=4)+'\\n')\n",
    "    file.write('\\n')\n",
    "    file.write('Classifications: Emotions\\n')\n",
    "    file.write(np.array2string(generateConfusionMatrix(emotions_test, emotions_pred)))\n",
    "\n",
    "\n",
    "\n",
    "    file.close()\n",
    "\n",
    "\n",
    "# https://www.educative.io/answers/how-to-create-a-confusion-matrix-in-python-using-scikit-learn"
   ]
  },
  {
   "cell_type": "code",
   "execution_count": null,
   "id": "e2069c82",
   "metadata": {},
   "outputs": [],
   "source": [
    "#BaseMNB\n",
    "generateConfusionMatrix(emotions_baseMNB_classifier, comments_test, emotions_test)\n",
    "# createPrecisionReport(\"baseMNB\", modelName = \"base_MultinomialNB\", hyperParams=mlp_params, emotions_pred = emotions_baseMNB_pred, sentiments_pred = sentiments_baseMNB_pred, emotions_classifier = emotions_baseMNB_classifier, sentiments_classifier = sentiments_baseMNB_classifier)"
   ]
  },
  {
   "cell_type": "code",
   "execution_count": 2,
   "id": "ec275b6e",
   "metadata": {},
   "outputs": [
    {
     "name": "stdout",
     "output_type": "stream",
     "text": [
      "[==================================================] 100.0% 1662.8/1662.8MB downloaded\n"
     ]
    }
   ],
   "source": [
    "# 3.1\n",
    "\n",
    "model = gen.load(\"word2vec-google-news-300\")"
   ]
  },
  {
   "cell_type": "code",
   "execution_count": 10,
   "id": "14cf3584",
   "metadata": {},
   "outputs": [
    {
     "ename": "LookupError",
     "evalue": "\n**********************************************************************\n  Resource \u001b[93mpunkt\u001b[0m not found.\n  Please use the NLTK Downloader to obtain the resource:\n\n  \u001b[31m>>> import nltk\n  >>> nltk.download('punkt')\n  \u001b[0m\n  For more information see: https://www.nltk.org/data.html\n\n  Attempted to load \u001b[93mtokenizers/punkt/english.pickle\u001b[0m\n\n  Searched in:\n    - 'C:\\\\Users\\\\simon/nltk_data'\n    - 'c:\\\\Users\\\\simon\\\\AppData\\\\Local\\\\Programs\\\\Python\\\\Python310\\\\nltk_data'\n    - 'c:\\\\Users\\\\simon\\\\AppData\\\\Local\\\\Programs\\\\Python\\\\Python310\\\\share\\\\nltk_data'\n    - 'c:\\\\Users\\\\simon\\\\AppData\\\\Local\\\\Programs\\\\Python\\\\Python310\\\\lib\\\\nltk_data'\n    - 'C:\\\\Users\\\\simon\\\\AppData\\\\Roaming\\\\nltk_data'\n    - 'C:\\\\nltk_data'\n    - 'D:\\\\nltk_data'\n    - 'E:\\\\nltk_data'\n    - ''\n**********************************************************************\n",
     "output_type": "error",
     "traceback": [
      "\u001b[1;31m---------------------------------------------------------------------------\u001b[0m",
      "\u001b[1;31mLookupError\u001b[0m                               Traceback (most recent call last)",
      "Cell \u001b[1;32mIn [10], line 2\u001b[0m\n\u001b[0;32m      1\u001b[0m allComments \u001b[39m=\u001b[39m \u001b[39m'\u001b[39m\u001b[39m \u001b[39m\u001b[39m'\u001b[39m\u001b[39m.\u001b[39mjoin(comments)\n\u001b[1;32m----> 2\u001b[0m word_tokenize(allComments)\n",
      "File \u001b[1;32m~\\AppData\\Roaming\\Python\\Python310\\site-packages\\nltk\\tokenize\\__init__.py:129\u001b[0m, in \u001b[0;36mword_tokenize\u001b[1;34m(text, language, preserve_line)\u001b[0m\n\u001b[0;32m    114\u001b[0m \u001b[39mdef\u001b[39;00m \u001b[39mword_tokenize\u001b[39m(text, language\u001b[39m=\u001b[39m\u001b[39m\"\u001b[39m\u001b[39menglish\u001b[39m\u001b[39m\"\u001b[39m, preserve_line\u001b[39m=\u001b[39m\u001b[39mFalse\u001b[39;00m):\n\u001b[0;32m    115\u001b[0m     \u001b[39m\"\"\"\u001b[39;00m\n\u001b[0;32m    116\u001b[0m \u001b[39m    Return a tokenized copy of *text*,\u001b[39;00m\n\u001b[0;32m    117\u001b[0m \u001b[39m    using NLTK's recommended word tokenizer\u001b[39;00m\n\u001b[1;32m   (...)\u001b[0m\n\u001b[0;32m    127\u001b[0m \u001b[39m    :type preserve_line: bool\u001b[39;00m\n\u001b[0;32m    128\u001b[0m \u001b[39m    \"\"\"\u001b[39;00m\n\u001b[1;32m--> 129\u001b[0m     sentences \u001b[39m=\u001b[39m [text] \u001b[39mif\u001b[39;00m preserve_line \u001b[39melse\u001b[39;00m sent_tokenize(text, language)\n\u001b[0;32m    130\u001b[0m     \u001b[39mreturn\u001b[39;00m [\n\u001b[0;32m    131\u001b[0m         token \u001b[39mfor\u001b[39;00m sent \u001b[39min\u001b[39;00m sentences \u001b[39mfor\u001b[39;00m token \u001b[39min\u001b[39;00m _treebank_word_tokenizer\u001b[39m.\u001b[39mtokenize(sent)\n\u001b[0;32m    132\u001b[0m     ]\n",
      "File \u001b[1;32m~\\AppData\\Roaming\\Python\\Python310\\site-packages\\nltk\\tokenize\\__init__.py:106\u001b[0m, in \u001b[0;36msent_tokenize\u001b[1;34m(text, language)\u001b[0m\n\u001b[0;32m     96\u001b[0m \u001b[39mdef\u001b[39;00m \u001b[39msent_tokenize\u001b[39m(text, language\u001b[39m=\u001b[39m\u001b[39m\"\u001b[39m\u001b[39menglish\u001b[39m\u001b[39m\"\u001b[39m):\n\u001b[0;32m     97\u001b[0m     \u001b[39m\"\"\"\u001b[39;00m\n\u001b[0;32m     98\u001b[0m \u001b[39m    Return a sentence-tokenized copy of *text*,\u001b[39;00m\n\u001b[0;32m     99\u001b[0m \u001b[39m    using NLTK's recommended sentence tokenizer\u001b[39;00m\n\u001b[1;32m   (...)\u001b[0m\n\u001b[0;32m    104\u001b[0m \u001b[39m    :param language: the model name in the Punkt corpus\u001b[39;00m\n\u001b[0;32m    105\u001b[0m \u001b[39m    \"\"\"\u001b[39;00m\n\u001b[1;32m--> 106\u001b[0m     tokenizer \u001b[39m=\u001b[39m load(\u001b[39mf\u001b[39;49m\u001b[39m\"\u001b[39;49m\u001b[39mtokenizers/punkt/\u001b[39;49m\u001b[39m{\u001b[39;49;00mlanguage\u001b[39m}\u001b[39;49;00m\u001b[39m.pickle\u001b[39;49m\u001b[39m\"\u001b[39;49m)\n\u001b[0;32m    107\u001b[0m     \u001b[39mreturn\u001b[39;00m tokenizer\u001b[39m.\u001b[39mtokenize(text)\n",
      "File \u001b[1;32m~\\AppData\\Roaming\\Python\\Python310\\site-packages\\nltk\\data.py:750\u001b[0m, in \u001b[0;36mload\u001b[1;34m(resource_url, format, cache, verbose, logic_parser, fstruct_reader, encoding)\u001b[0m\n\u001b[0;32m    747\u001b[0m     \u001b[39mprint\u001b[39m(\u001b[39mf\u001b[39m\u001b[39m\"\u001b[39m\u001b[39m<<Loading \u001b[39m\u001b[39m{\u001b[39;00mresource_url\u001b[39m}\u001b[39;00m\u001b[39m>>\u001b[39m\u001b[39m\"\u001b[39m)\n\u001b[0;32m    749\u001b[0m \u001b[39m# Load the resource.\u001b[39;00m\n\u001b[1;32m--> 750\u001b[0m opened_resource \u001b[39m=\u001b[39m _open(resource_url)\n\u001b[0;32m    752\u001b[0m \u001b[39mif\u001b[39;00m \u001b[39mformat\u001b[39m \u001b[39m==\u001b[39m \u001b[39m\"\u001b[39m\u001b[39mraw\u001b[39m\u001b[39m\"\u001b[39m:\n\u001b[0;32m    753\u001b[0m     resource_val \u001b[39m=\u001b[39m opened_resource\u001b[39m.\u001b[39mread()\n",
      "File \u001b[1;32m~\\AppData\\Roaming\\Python\\Python310\\site-packages\\nltk\\data.py:876\u001b[0m, in \u001b[0;36m_open\u001b[1;34m(resource_url)\u001b[0m\n\u001b[0;32m    873\u001b[0m protocol, path_ \u001b[39m=\u001b[39m split_resource_url(resource_url)\n\u001b[0;32m    875\u001b[0m \u001b[39mif\u001b[39;00m protocol \u001b[39mis\u001b[39;00m \u001b[39mNone\u001b[39;00m \u001b[39mor\u001b[39;00m protocol\u001b[39m.\u001b[39mlower() \u001b[39m==\u001b[39m \u001b[39m\"\u001b[39m\u001b[39mnltk\u001b[39m\u001b[39m\"\u001b[39m:\n\u001b[1;32m--> 876\u001b[0m     \u001b[39mreturn\u001b[39;00m find(path_, path \u001b[39m+\u001b[39;49m [\u001b[39m\"\u001b[39;49m\u001b[39m\"\u001b[39;49m])\u001b[39m.\u001b[39mopen()\n\u001b[0;32m    877\u001b[0m \u001b[39melif\u001b[39;00m protocol\u001b[39m.\u001b[39mlower() \u001b[39m==\u001b[39m \u001b[39m\"\u001b[39m\u001b[39mfile\u001b[39m\u001b[39m\"\u001b[39m:\n\u001b[0;32m    878\u001b[0m     \u001b[39m# urllib might not use mode='rb', so handle this one ourselves:\u001b[39;00m\n\u001b[0;32m    879\u001b[0m     \u001b[39mreturn\u001b[39;00m find(path_, [\u001b[39m\"\u001b[39m\u001b[39m\"\u001b[39m])\u001b[39m.\u001b[39mopen()\n",
      "File \u001b[1;32m~\\AppData\\Roaming\\Python\\Python310\\site-packages\\nltk\\data.py:583\u001b[0m, in \u001b[0;36mfind\u001b[1;34m(resource_name, paths)\u001b[0m\n\u001b[0;32m    581\u001b[0m sep \u001b[39m=\u001b[39m \u001b[39m\"\u001b[39m\u001b[39m*\u001b[39m\u001b[39m\"\u001b[39m \u001b[39m*\u001b[39m \u001b[39m70\u001b[39m\n\u001b[0;32m    582\u001b[0m resource_not_found \u001b[39m=\u001b[39m \u001b[39mf\u001b[39m\u001b[39m\"\u001b[39m\u001b[39m\\n\u001b[39;00m\u001b[39m{\u001b[39;00msep\u001b[39m}\u001b[39;00m\u001b[39m\\n\u001b[39;00m\u001b[39m{\u001b[39;00mmsg\u001b[39m}\u001b[39;00m\u001b[39m\\n\u001b[39;00m\u001b[39m{\u001b[39;00msep\u001b[39m}\u001b[39;00m\u001b[39m\\n\u001b[39;00m\u001b[39m\"\u001b[39m\n\u001b[1;32m--> 583\u001b[0m \u001b[39mraise\u001b[39;00m \u001b[39mLookupError\u001b[39;00m(resource_not_found)\n",
      "\u001b[1;31mLookupError\u001b[0m: \n**********************************************************************\n  Resource \u001b[93mpunkt\u001b[0m not found.\n  Please use the NLTK Downloader to obtain the resource:\n\n  \u001b[31m>>> import nltk\n  >>> nltk.download('punkt')\n  \u001b[0m\n  For more information see: https://www.nltk.org/data.html\n\n  Attempted to load \u001b[93mtokenizers/punkt/english.pickle\u001b[0m\n\n  Searched in:\n    - 'C:\\\\Users\\\\simon/nltk_data'\n    - 'c:\\\\Users\\\\simon\\\\AppData\\\\Local\\\\Programs\\\\Python\\\\Python310\\\\nltk_data'\n    - 'c:\\\\Users\\\\simon\\\\AppData\\\\Local\\\\Programs\\\\Python\\\\Python310\\\\share\\\\nltk_data'\n    - 'c:\\\\Users\\\\simon\\\\AppData\\\\Local\\\\Programs\\\\Python\\\\Python310\\\\lib\\\\nltk_data'\n    - 'C:\\\\Users\\\\simon\\\\AppData\\\\Roaming\\\\nltk_data'\n    - 'C:\\\\nltk_data'\n    - 'D:\\\\nltk_data'\n    - 'E:\\\\nltk_data'\n    - ''\n**********************************************************************\n"
     ]
    }
   ],
   "source": [
    "nltk.download('punkt')\n",
    "allComments = ' '.join(comments)\n",
    "word_tokenize(allComments)"
   ]
  }
 ],
 "metadata": {
  "kernelspec": {
   "display_name": "Python 3 (ipykernel)",
   "language": "python",
   "name": "python3"
  },
  "language_info": {
   "codemirror_mode": {
    "name": "ipython",
    "version": 3
   },
   "file_extension": ".py",
   "mimetype": "text/x-python",
   "name": "python",
   "nbconvert_exporter": "python",
   "pygments_lexer": "ipython3",
   "version": "3.10.7"
  },
  "vscode": {
   "interpreter": {
    "hash": "7101ca937a6cefa303d920fd1335fe82956cc294edbf5f7bc268a5a56c54bb64"
   }
  }
 },
 "nbformat": 4,
 "nbformat_minor": 5
}
