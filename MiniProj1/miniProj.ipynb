{
 "cells": [
  {
   "cell_type": "code",
   "execution_count": 10,
   "id": "2c22bcd0-df2c-4c8b-9152-792c296a1c95",
   "metadata": {},
   "outputs": [],
   "source": [
    "import warnings\n",
    "\n",
    "warnings.filterwarnings(\"ignore\", category=DeprecationWarning) \n",
    "warnings.simplefilter(\"ignore\") \n",
    "\n",
    "from matplotlib import test\n",
    "from sklearn.feature_extraction.text import CountVectorizer\n",
    "from sklearn.model_selection import GridSearchCV, train_test_split\n",
    "from sklearn.naive_bayes import MultinomialNB\n",
    "from sklearn.tree import DecisionTreeClassifier\n",
    "from sklearn.neural_network import MLPClassifier\n",
    "from collections import Counter\n",
    "\n",
    "import json\n",
    "import matplotlib.pyplot as plt\n",
    "import gzip\n",
    "import pandas as pd"
   ]
  },
  {
   "cell_type": "code",
   "execution_count": 11,
   "id": "09fce923-6e42-43d4-9c9d-3a4710b4e288",
   "metadata": {
    "tags": []
   },
   "outputs": [],
   "source": [
    "emotionsGZIP = gzip.open(\"./goemotions.json.gz\", \"rb\")\n",
    "emotionsJSON = json.load(emotionsGZIP)\n",
    "\n",
    "classification = []\n",
    "emotions = []\n",
    "comments = []"
   ]
  },
  {
   "cell_type": "code",
   "execution_count": 12,
   "id": "b7bd1d7a-fe20-4a0b-b6d0-fc0a38839f8b",
   "metadata": {},
   "outputs": [],
   "source": [
    "def createPieChart(dict, dictName):\n",
    "    labels = []\n",
    "    values = []\n",
    "    for x,y in dict.items():\n",
    "        labels.append(x)\n",
    "        values.append(y)\n",
    "    plt.pie(values, labels=labels, autopct=lambda p:f'{p:.2f}%, {p*sum(values)/100 :.0f}')\n",
    "    plt.savefig('./graphs/'+dictName)\n",
    "    plt.clf()\n",
    "\n",
    "\n",
    "def getVocabulary():\n",
    "    vectorizer = CountVectorizer()\n",
    "    X  = vectorizer.fit(comments)\n",
    "    print(\"Vocabulary size: \", len(X.vocabulary_))\n",
    "\n",
    "def run_q1():\n",
    "    createPieChart(Counter(emotions), 'emotions_with_values')\n",
    "    createPieChart(Counter(classification), 'classification_with_values')\n",
    "    return comments, classification, emotions\n",
    "\n",
    "\n",
    "def readData():\n",
    "    for value in emotionsJSON:\n",
    "        emotions.append(value[1])\n",
    "        classification.append(value[2])\n",
    "        comments.append(value[0])\n",
    "\n"
   ]
  },
  {
   "cell_type": "code",
   "execution_count": 13,
   "id": "7ababc10-48a8-47c9-addc-73a594b0f39d",
   "metadata": {},
   "outputs": [],
   "source": [
    "\n",
    "def getBaseClassifiersPredictions(classifier, commentsTrainVector, commentsTestVector, classification_train, emotions_train):\n",
    "\n",
    "    #emotions\n",
    "    classifier.fit(commentsTrainVector, emotions_train)\n",
    "    emotions_pred = classifier.predict(commentsTestVector)\n",
    "\n",
    "    #classifications\n",
    "    classifier.fit(commentsTrainVector, classification_train)\n",
    "    classifications_pred = classifier.predict(commentsTestVector)\n",
    "\n",
    "    return emotions_pred, classifications_pred\n",
    "\n",
    "def getGridSearchWithModelAndParams(model, params, cvCount, iterations, commentsTrainVector, commentsTestVector, classification_train, emotions_train):\n",
    "    tunedClassifier = GridSearchCV(model, params, cv=10, n_jobs=2)\n",
    "    \n",
    "    #emotions\n",
    "    tunedClassifier.fit(commentsTrainVector, emotions_train)\n",
    "    df = pd.DataFrame(tunedClassifier.cv_results_)\n",
    "    \n",
    "    emotions_pred = tunedClassifier.predict(commentsTestVector)\n",
    "    \n",
    "    print(df[['param_alpha', 'mean_test_score', 'rank_test_score']])\n",
    "    print(tunedClassifier.best_score_)\n",
    "    print(tunedClassifier.best_params_)\n",
    "    print(tunedClassifier.predict(commentsTestVector))\n",
    "\n",
    "    #classifications\n",
    "    tunedClassifier.fit(commentsTrainVector, classification_train)\n",
    "    df = pd.DataFrame(tunedClassifier.cv_results_)\n",
    "\n",
    "    classifications_pred = tunedClassifier.predict(commentsTestVector)\n",
    "    \n",
    "    print(df[['param_alpha', 'mean_test_score', 'rank_test_score']])\n",
    "    print(tunedClassifier.best_score_)\n",
    "    print(tunedClassifier.best_params_)\n",
    "    print(tunedClassifier.predict(commentsTestVector))\n",
    "\n",
    "    return emotions_pred, classifications_pred\n",
    "\n",
    "\n",
    "def run_q2():\n",
    "    #2.1\n",
    "    getVocabulary()\n",
    "\n",
    "    #2.2\n",
    "    comments_train, comments_test, classification_train, classification_test, emotions_train, emotions_test = train_test_split(comments, classification, emotions, test_size=0.2, random_state=0)\n",
    "    \n",
    "    #2.3\n",
    "    vectorizer = CountVectorizer()\n",
    "    commentsTrainVector = vectorizer.fit_transform(comments_train)\n",
    "    commentsTestVector = vectorizer.transform(comments_test)\n",
    "\n",
    "    #2.3.1\n",
    "    # getBaseClassifiersPredictions(MultinomialNB(), commentsTrainVector, commentsTestVector, classification_train, emotions_train)\n",
    "    \n",
    "    #2.3.2\n",
    "    # getBaseClassifiersPredictions(DecisionTreeClassifier(), commentsTrainVector, commentsTestVector, classification_train, emotions_train)\n",
    "    \n",
    "    #2.3.3\n",
    "    # getBaseClassifiersPredictions(MLPClassifier(), commentsTrainVector, commentsTestVector, classification_train, emotions_train)\n",
    "\n",
    "    #2.3.4\n",
    "    mnb_classifier = MultinomialNB()\n",
    "    mnb_params = {'alpha': [0, 0.5, 1, 10]}\n",
    "    # getGridSearchWithModelAndParams(mnb_classifier, mnb_params, 10, 2, commentsTrainVector, commentsTestVector, classification_train, emotions_train)\n",
    "    \n",
    "    #2.3.5\n",
    "    dt_classifier = DecisionTreeClassifier()\n",
    "    dt_params = {\n",
    "        'criterion': ['gini', 'entropy'],\n",
    "        'max_depth': [5, 10],\n",
    "        'min_samples_split': [1,2,3]\n",
    "    }\n",
    "    getGridSearchWithModelAndParams(dt_classifier, dt_params, 5, 1, commentsTrainVector, commentsTestVector, classification_train, emotions_train)"
   ]
  },
  {
   "cell_type": "code",
   "execution_count": 14,
   "id": "7b73f501-2adc-4b02-8f08-3120780174c9",
   "metadata": {},
   "outputs": [
    {
     "name": "stdout",
     "output_type": "stream",
     "text": [
      "Vocabulary size:  30449\n"
     ]
    },
    {
     "ename": "KeyboardInterrupt",
     "evalue": "",
     "output_type": "error",
     "traceback": [
      "\u001b[0;31m---------------------------------------------------------------------------\u001b[0m",
      "\u001b[0;31mKeyboardInterrupt\u001b[0m                         Traceback (most recent call last)",
      "Cell \u001b[0;32mIn [14], line 5\u001b[0m\n\u001b[1;32m      2\u001b[0m readData()\n\u001b[1;32m      3\u001b[0m \u001b[39m#1.3\u001b[39;00m\n\u001b[1;32m      4\u001b[0m \u001b[39m# run_q1()\u001b[39;00m\n\u001b[0;32m----> 5\u001b[0m run_q2()\n",
      "Cell \u001b[0;32mIn [13], line 74\u001b[0m, in \u001b[0;36mrun_q2\u001b[0;34m()\u001b[0m\n\u001b[1;32m     68\u001b[0m dt_classifier \u001b[39m=\u001b[39m DecisionTreeClassifier()\n\u001b[1;32m     69\u001b[0m dt_params \u001b[39m=\u001b[39m {\n\u001b[1;32m     70\u001b[0m     \u001b[39m'\u001b[39m\u001b[39mcriterion\u001b[39m\u001b[39m'\u001b[39m: [\u001b[39m'\u001b[39m\u001b[39mgini\u001b[39m\u001b[39m'\u001b[39m, \u001b[39m'\u001b[39m\u001b[39mentropy\u001b[39m\u001b[39m'\u001b[39m],\n\u001b[1;32m     71\u001b[0m     \u001b[39m'\u001b[39m\u001b[39mmax_depth\u001b[39m\u001b[39m'\u001b[39m: [\u001b[39m10\u001b[39m, \u001b[39m20\u001b[39m],\n\u001b[1;32m     72\u001b[0m     \u001b[39m'\u001b[39m\u001b[39mmin_samples_split\u001b[39m\u001b[39m'\u001b[39m: [\u001b[39m4\u001b[39m, \u001b[39m8\u001b[39m, \u001b[39m16\u001b[39m]\n\u001b[1;32m     73\u001b[0m }\n\u001b[0;32m---> 74\u001b[0m getGridSearchWithModelAndParams(dt_classifier, dt_params, \u001b[39m10\u001b[39;49m, \u001b[39m1\u001b[39;49m, commentsTrainVector, commentsTestVector, classification_train, emotions_train)\n",
      "Cell \u001b[0;32mIn [13], line 17\u001b[0m, in \u001b[0;36mgetGridSearchWithModelAndParams\u001b[0;34m(model, params, cvCount, iterations, commentsTrainVector, commentsTestVector, classification_train, emotions_train)\u001b[0m\n\u001b[1;32m     14\u001b[0m tunedClassifier \u001b[39m=\u001b[39m GridSearchCV(model, params, cv\u001b[39m=\u001b[39m\u001b[39m10\u001b[39m, n_jobs\u001b[39m=\u001b[39m\u001b[39m2\u001b[39m)\n\u001b[1;32m     16\u001b[0m \u001b[39m#emotions\u001b[39;00m\n\u001b[0;32m---> 17\u001b[0m tunedClassifier\u001b[39m.\u001b[39;49mfit(commentsTrainVector, emotions_train)\n\u001b[1;32m     18\u001b[0m df \u001b[39m=\u001b[39m pd\u001b[39m.\u001b[39mDataFrame(tunedClassifier\u001b[39m.\u001b[39mcv_results_)\n\u001b[1;32m     20\u001b[0m emotions_pred \u001b[39m=\u001b[39m tunedClassifier\u001b[39m.\u001b[39mpredict(commentsTestVector)\n",
      "File \u001b[0;32m~/.pyenv/versions/3.9.11/lib/python3.9/site-packages/sklearn/model_selection/_search.py:875\u001b[0m, in \u001b[0;36mBaseSearchCV.fit\u001b[0;34m(self, X, y, groups, **fit_params)\u001b[0m\n\u001b[1;32m    869\u001b[0m     results \u001b[39m=\u001b[39m \u001b[39mself\u001b[39m\u001b[39m.\u001b[39m_format_results(\n\u001b[1;32m    870\u001b[0m         all_candidate_params, n_splits, all_out, all_more_results\n\u001b[1;32m    871\u001b[0m     )\n\u001b[1;32m    873\u001b[0m     \u001b[39mreturn\u001b[39;00m results\n\u001b[0;32m--> 875\u001b[0m \u001b[39mself\u001b[39;49m\u001b[39m.\u001b[39;49m_run_search(evaluate_candidates)\n\u001b[1;32m    877\u001b[0m \u001b[39m# multimetric is determined here because in the case of a callable\u001b[39;00m\n\u001b[1;32m    878\u001b[0m \u001b[39m# self.scoring the return type is only known after calling\u001b[39;00m\n\u001b[1;32m    879\u001b[0m first_test_score \u001b[39m=\u001b[39m all_out[\u001b[39m0\u001b[39m][\u001b[39m\"\u001b[39m\u001b[39mtest_scores\u001b[39m\u001b[39m\"\u001b[39m]\n",
      "File \u001b[0;32m~/.pyenv/versions/3.9.11/lib/python3.9/site-packages/sklearn/model_selection/_search.py:1379\u001b[0m, in \u001b[0;36mGridSearchCV._run_search\u001b[0;34m(self, evaluate_candidates)\u001b[0m\n\u001b[1;32m   1377\u001b[0m \u001b[39mdef\u001b[39;00m \u001b[39m_run_search\u001b[39m(\u001b[39mself\u001b[39m, evaluate_candidates):\n\u001b[1;32m   1378\u001b[0m     \u001b[39m\"\"\"Search all candidates in param_grid\"\"\"\u001b[39;00m\n\u001b[0;32m-> 1379\u001b[0m     evaluate_candidates(ParameterGrid(\u001b[39mself\u001b[39;49m\u001b[39m.\u001b[39;49mparam_grid))\n",
      "File \u001b[0;32m~/.pyenv/versions/3.9.11/lib/python3.9/site-packages/sklearn/model_selection/_search.py:822\u001b[0m, in \u001b[0;36mBaseSearchCV.fit.<locals>.evaluate_candidates\u001b[0;34m(candidate_params, cv, more_results)\u001b[0m\n\u001b[1;32m    814\u001b[0m \u001b[39mif\u001b[39;00m \u001b[39mself\u001b[39m\u001b[39m.\u001b[39mverbose \u001b[39m>\u001b[39m \u001b[39m0\u001b[39m:\n\u001b[1;32m    815\u001b[0m     \u001b[39mprint\u001b[39m(\n\u001b[1;32m    816\u001b[0m         \u001b[39m\"\u001b[39m\u001b[39mFitting \u001b[39m\u001b[39m{0}\u001b[39;00m\u001b[39m folds for each of \u001b[39m\u001b[39m{1}\u001b[39;00m\u001b[39m candidates,\u001b[39m\u001b[39m\"\u001b[39m\n\u001b[1;32m    817\u001b[0m         \u001b[39m\"\u001b[39m\u001b[39m totalling \u001b[39m\u001b[39m{2}\u001b[39;00m\u001b[39m fits\u001b[39m\u001b[39m\"\u001b[39m\u001b[39m.\u001b[39mformat(\n\u001b[1;32m    818\u001b[0m             n_splits, n_candidates, n_candidates \u001b[39m*\u001b[39m n_splits\n\u001b[1;32m    819\u001b[0m         )\n\u001b[1;32m    820\u001b[0m     )\n\u001b[0;32m--> 822\u001b[0m out \u001b[39m=\u001b[39m parallel(\n\u001b[1;32m    823\u001b[0m     delayed(_fit_and_score)(\n\u001b[1;32m    824\u001b[0m         clone(base_estimator),\n\u001b[1;32m    825\u001b[0m         X,\n\u001b[1;32m    826\u001b[0m         y,\n\u001b[1;32m    827\u001b[0m         train\u001b[39m=\u001b[39;49mtrain,\n\u001b[1;32m    828\u001b[0m         test\u001b[39m=\u001b[39;49mtest,\n\u001b[1;32m    829\u001b[0m         parameters\u001b[39m=\u001b[39;49mparameters,\n\u001b[1;32m    830\u001b[0m         split_progress\u001b[39m=\u001b[39;49m(split_idx, n_splits),\n\u001b[1;32m    831\u001b[0m         candidate_progress\u001b[39m=\u001b[39;49m(cand_idx, n_candidates),\n\u001b[1;32m    832\u001b[0m         \u001b[39m*\u001b[39;49m\u001b[39m*\u001b[39;49mfit_and_score_kwargs,\n\u001b[1;32m    833\u001b[0m     )\n\u001b[1;32m    834\u001b[0m     \u001b[39mfor\u001b[39;49;00m (cand_idx, parameters), (split_idx, (train, test)) \u001b[39min\u001b[39;49;00m product(\n\u001b[1;32m    835\u001b[0m         \u001b[39menumerate\u001b[39;49m(candidate_params), \u001b[39menumerate\u001b[39;49m(cv\u001b[39m.\u001b[39;49msplit(X, y, groups))\n\u001b[1;32m    836\u001b[0m     )\n\u001b[1;32m    837\u001b[0m )\n\u001b[1;32m    839\u001b[0m \u001b[39mif\u001b[39;00m \u001b[39mlen\u001b[39m(out) \u001b[39m<\u001b[39m \u001b[39m1\u001b[39m:\n\u001b[1;32m    840\u001b[0m     \u001b[39mraise\u001b[39;00m \u001b[39mValueError\u001b[39;00m(\n\u001b[1;32m    841\u001b[0m         \u001b[39m\"\u001b[39m\u001b[39mNo fits were performed. \u001b[39m\u001b[39m\"\u001b[39m\n\u001b[1;32m    842\u001b[0m         \u001b[39m\"\u001b[39m\u001b[39mWas the CV iterator empty? \u001b[39m\u001b[39m\"\u001b[39m\n\u001b[1;32m    843\u001b[0m         \u001b[39m\"\u001b[39m\u001b[39mWere there no candidates?\u001b[39m\u001b[39m\"\u001b[39m\n\u001b[1;32m    844\u001b[0m     )\n",
      "File \u001b[0;32m~/.pyenv/versions/3.9.11/lib/python3.9/site-packages/joblib/parallel.py:1098\u001b[0m, in \u001b[0;36mParallel.__call__\u001b[0;34m(self, iterable)\u001b[0m\n\u001b[1;32m   1095\u001b[0m     \u001b[39mself\u001b[39m\u001b[39m.\u001b[39m_iterating \u001b[39m=\u001b[39m \u001b[39mFalse\u001b[39;00m\n\u001b[1;32m   1097\u001b[0m \u001b[39mwith\u001b[39;00m \u001b[39mself\u001b[39m\u001b[39m.\u001b[39m_backend\u001b[39m.\u001b[39mretrieval_context():\n\u001b[0;32m-> 1098\u001b[0m     \u001b[39mself\u001b[39;49m\u001b[39m.\u001b[39;49mretrieve()\n\u001b[1;32m   1099\u001b[0m \u001b[39m# Make sure that we get a last message telling us we are done\u001b[39;00m\n\u001b[1;32m   1100\u001b[0m elapsed_time \u001b[39m=\u001b[39m time\u001b[39m.\u001b[39mtime() \u001b[39m-\u001b[39m \u001b[39mself\u001b[39m\u001b[39m.\u001b[39m_start_time\n",
      "File \u001b[0;32m~/.pyenv/versions/3.9.11/lib/python3.9/site-packages/joblib/parallel.py:975\u001b[0m, in \u001b[0;36mParallel.retrieve\u001b[0;34m(self)\u001b[0m\n\u001b[1;32m    973\u001b[0m \u001b[39mtry\u001b[39;00m:\n\u001b[1;32m    974\u001b[0m     \u001b[39mif\u001b[39;00m \u001b[39mgetattr\u001b[39m(\u001b[39mself\u001b[39m\u001b[39m.\u001b[39m_backend, \u001b[39m'\u001b[39m\u001b[39msupports_timeout\u001b[39m\u001b[39m'\u001b[39m, \u001b[39mFalse\u001b[39;00m):\n\u001b[0;32m--> 975\u001b[0m         \u001b[39mself\u001b[39m\u001b[39m.\u001b[39m_output\u001b[39m.\u001b[39mextend(job\u001b[39m.\u001b[39;49mget(timeout\u001b[39m=\u001b[39;49m\u001b[39mself\u001b[39;49m\u001b[39m.\u001b[39;49mtimeout))\n\u001b[1;32m    976\u001b[0m     \u001b[39melse\u001b[39;00m:\n\u001b[1;32m    977\u001b[0m         \u001b[39mself\u001b[39m\u001b[39m.\u001b[39m_output\u001b[39m.\u001b[39mextend(job\u001b[39m.\u001b[39mget())\n",
      "File \u001b[0;32m~/.pyenv/versions/3.9.11/lib/python3.9/site-packages/joblib/_parallel_backends.py:567\u001b[0m, in \u001b[0;36mLokyBackend.wrap_future_result\u001b[0;34m(future, timeout)\u001b[0m\n\u001b[1;32m    564\u001b[0m \u001b[39m\"\"\"Wrapper for Future.result to implement the same behaviour as\u001b[39;00m\n\u001b[1;32m    565\u001b[0m \u001b[39mAsyncResults.get from multiprocessing.\"\"\"\u001b[39;00m\n\u001b[1;32m    566\u001b[0m \u001b[39mtry\u001b[39;00m:\n\u001b[0;32m--> 567\u001b[0m     \u001b[39mreturn\u001b[39;00m future\u001b[39m.\u001b[39;49mresult(timeout\u001b[39m=\u001b[39;49mtimeout)\n\u001b[1;32m    568\u001b[0m \u001b[39mexcept\u001b[39;00m CfTimeoutError \u001b[39mas\u001b[39;00m e:\n\u001b[1;32m    569\u001b[0m     \u001b[39mraise\u001b[39;00m \u001b[39mTimeoutError\u001b[39;00m \u001b[39mfrom\u001b[39;00m \u001b[39me\u001b[39;00m\n",
      "File \u001b[0;32m~/.pyenv/versions/3.9.11/lib/python3.9/concurrent/futures/_base.py:441\u001b[0m, in \u001b[0;36mFuture.result\u001b[0;34m(self, timeout)\u001b[0m\n\u001b[1;32m    438\u001b[0m \u001b[39melif\u001b[39;00m \u001b[39mself\u001b[39m\u001b[39m.\u001b[39m_state \u001b[39m==\u001b[39m FINISHED:\n\u001b[1;32m    439\u001b[0m     \u001b[39mreturn\u001b[39;00m \u001b[39mself\u001b[39m\u001b[39m.\u001b[39m__get_result()\n\u001b[0;32m--> 441\u001b[0m \u001b[39mself\u001b[39;49m\u001b[39m.\u001b[39;49m_condition\u001b[39m.\u001b[39;49mwait(timeout)\n\u001b[1;32m    443\u001b[0m \u001b[39mif\u001b[39;00m \u001b[39mself\u001b[39m\u001b[39m.\u001b[39m_state \u001b[39min\u001b[39;00m [CANCELLED, CANCELLED_AND_NOTIFIED]:\n\u001b[1;32m    444\u001b[0m     \u001b[39mraise\u001b[39;00m CancelledError()\n",
      "File \u001b[0;32m~/.pyenv/versions/3.9.11/lib/python3.9/threading.py:312\u001b[0m, in \u001b[0;36mCondition.wait\u001b[0;34m(self, timeout)\u001b[0m\n\u001b[1;32m    310\u001b[0m \u001b[39mtry\u001b[39;00m:    \u001b[39m# restore state no matter what (e.g., KeyboardInterrupt)\u001b[39;00m\n\u001b[1;32m    311\u001b[0m     \u001b[39mif\u001b[39;00m timeout \u001b[39mis\u001b[39;00m \u001b[39mNone\u001b[39;00m:\n\u001b[0;32m--> 312\u001b[0m         waiter\u001b[39m.\u001b[39;49macquire()\n\u001b[1;32m    313\u001b[0m         gotit \u001b[39m=\u001b[39m \u001b[39mTrue\u001b[39;00m\n\u001b[1;32m    314\u001b[0m     \u001b[39melse\u001b[39;00m:\n",
      "\u001b[0;31mKeyboardInterrupt\u001b[0m: "
     ]
    }
   ],
   "source": [
    "#1.2\n",
    "readData()\n",
    "#1.3\n",
    "# run_q1()\n",
    "run_q2()"
   ]
  }
 ],
 "metadata": {
  "kernelspec": {
   "display_name": "Python 3.9.11 64-bit ('3.9.11')",
   "language": "python",
   "name": "python3"
  },
  "language_info": {
   "codemirror_mode": {
    "name": "ipython",
    "version": 3
   },
   "file_extension": ".py",
   "mimetype": "text/x-python",
   "name": "python",
   "nbconvert_exporter": "python",
   "pygments_lexer": "ipython3",
   "version": "3.9.11"
  },
  "vscode": {
   "interpreter": {
    "hash": "d90f6532268e2ba1d590c7b6dcde19dbe5a019d98f28c6ea6710d1da3d032104"
   }
  }
 },
 "nbformat": 4,
 "nbformat_minor": 5
}
