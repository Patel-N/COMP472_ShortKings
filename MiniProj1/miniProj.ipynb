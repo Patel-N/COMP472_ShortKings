{
 "cells": [
  {
   "cell_type": "code",
   "execution_count": 36,
   "metadata": {},
   "outputs": [],
   "source": [
    "import warnings\n",
    "\n",
    "warnings.filterwarnings(\"ignore\", category=DeprecationWarning) \n",
    "warnings.simplefilter(\"ignore\") \n",
    "\n",
    "from matplotlib import test\n",
    "from sklearn.feature_extraction.text import CountVectorizer\n",
    "from sklearn.model_selection import GridSearchCV, train_test_split\n",
    "from sklearn.naive_bayes import MultinomialNB\n",
    "from sklearn.tree import DecisionTreeClassifier\n",
    "from sklearn.neural_network import MLPClassifier\n",
    "from sklearn.metrics import confusion_matrix\n",
    "from collections import Counter\n",
    "\n",
    "import json\n",
    "import matplotlib.pyplot as plt\n",
    "import gzip\n",
    "import pandas as pd\n",
    "import copy\n",
    "import os\n",
    "import numpy as np"
   ]
  },
  {
   "cell_type": "markdown",
   "id": "2f3e2d89",
   "metadata": {},
   "source": [
    "# Part 1"
   ]
  },
  {
   "cell_type": "code",
   "execution_count": 11,
   "id": "00609551",
   "metadata": {},
   "outputs": [],
   "source": [
    "sentiments = []\n",
    "emotions = []\n",
    "comments = []\n",
    "\n",
    "commentsTrainVector = None\n",
    "commentsTestVector = None"
   ]
  },
  {
   "cell_type": "code",
   "execution_count": 12,
   "metadata": {},
   "outputs": [],
   "source": [
    "#1.2\n",
    "emotionsGZIP = gzip.open(\"./goemotions.json.gz\", \"rb\")\n",
    "emotionsJSON = json.load(emotionsGZIP)"
   ]
  },
  {
   "cell_type": "code",
   "execution_count": 13,
   "id": "0fa7f22b",
   "metadata": {},
   "outputs": [],
   "source": [
    "def createPieChart(dict, dictName):\n",
    "    labels = []\n",
    "    values = []\n",
    "    for x,y in dict.items():\n",
    "        labels.append(x)\n",
    "        values.append(y)\n",
    "    plt.pie(values, labels=labels, autopct=lambda p:f'{p:.2f}%, {p*sum(values)/100 :.0f}')\n",
    "    plt.savefig(fname='./graphs/'+dictName+'.pdf', format='pdf')\n",
    "    plt.clf()\n",
    "    "
   ]
  },
  {
   "cell_type": "code",
   "execution_count": 14,
   "id": "aba4719b",
   "metadata": {},
   "outputs": [
    {
     "data": {
      "text/plain": [
       "<Figure size 640x480 with 0 Axes>"
      ]
     },
     "metadata": {},
     "output_type": "display_data"
    }
   ],
   "source": [
    "#1.3\n",
    "for value in emotionsJSON:\n",
    "        emotions.append(value[1])\n",
    "        sentiments.append(value[2])\n",
    "        comments.append(value[0])\n",
    "\n",
    "createPieChart(Counter(emotions), 'emotions_with_values')\n",
    "createPieChart(Counter(sentiments), 'sentiments_with_values')"
   ]
  },
  {
   "cell_type": "markdown",
   "id": "b360d3f1",
   "metadata": {},
   "source": [
    "# Part 2"
   ]
  },
  {
   "cell_type": "code",
   "execution_count": 15,
   "id": "7fe3132c",
   "metadata": {},
   "outputs": [
    {
     "name": "stdout",
     "output_type": "stream",
     "text": [
      "Vocabulary size:  30449\n"
     ]
    }
   ],
   "source": [
    "#2.1\n",
    "vectorizer = CountVectorizer()\n",
    "X  = vectorizer.fit(comments)\n",
    "print(\"Vocabulary size: \", len(X.vocabulary_))"
   ]
  },
  {
   "cell_type": "code",
   "execution_count": 16,
   "id": "a92d22bd",
   "metadata": {},
   "outputs": [],
   "source": [
    "#2.2\n",
    "comments_train, comments_test, sentiments_train, sentiments_test, emotions_train, emotions_test = train_test_split(comments, sentiments, emotions, test_size=0.2, random_state=0)"
   ]
  },
  {
   "cell_type": "markdown",
   "id": "ea451870",
   "metadata": {},
   "source": [
    "## 2.3"
   ]
  },
  {
   "cell_type": "code",
   "execution_count": 17,
   "metadata": {},
   "outputs": [],
   "source": [
    "#2.3\n",
    "vectorizer = CountVectorizer()\n",
    "commentsTrainVector = vectorizer.fit_transform(comments_train)\n",
    "commentsTestVector = vectorizer.transform(comments_test)\n",
    "\n",
    "\n",
    "def getBaseClassifiersPredictions(classifier, commentsTrainVector, commentsTestVector, sentiments_train, emotions_train):\n",
    "\n",
    "    #emotions\n",
    "    classifier.fit(commentsTrainVector, emotions_train)\n",
    "    emotions_classifier = copy.deepcopy(classifier)\n",
    "    emotions_pred = classifier.predict(commentsTestVector)\n",
    "    print(emotions_pred)\n",
    "\n",
    "    #sentiments\n",
    "    classifier.fit(commentsTrainVector, sentiments_train)\n",
    "    sentiments_classifier = copy.deepcopy(classifier)\n",
    "    sentiments_pred = classifier.predict(commentsTestVector)\n",
    "    print(sentiments_pred)\n",
    "\n",
    "    return emotions_pred, sentiments_pred, emotions_classifier, sentiments_classifier\n",
    "\n",
    "def getGridSearchWithModelAndParams(model, params, cvCount, jobs, commentsTrainVector, commentsTestVector, sentiments_train, emotions_train):\n",
    "    #Setup GridSearch and hyperparams\n",
    "    tunedClassifier = GridSearchCV(model, params, cv=cvCount, n_jobs=jobs)\n",
    "    hyperparams = list(params.keys())\n",
    "    hyperparamsWithParams = ['param_' + paramInList for paramInList in hyperparams]\n",
    "    \n",
    "    #emotions\n",
    "    tunedClassifier.fit(commentsTrainVector, emotions_train)\n",
    "    emotions_tunedClassifier = copy.deepcopy(tunedClassifier)\n",
    "    emotions_cv_results = tunedClassifier.cv_results_\n",
    "    df = pd.DataFrame(emotions_cv_results)\n",
    "    \n",
    "    emotions_pred = tunedClassifier.predict(commentsTestVector)\n",
    "    \n",
    "    print(df[hyperparamsWithParams])\n",
    "    print(tunedClassifier.best_score_)\n",
    "    print(tunedClassifier.best_params_)\n",
    "    print(tunedClassifier.predict(commentsTestVector))\n",
    "\n",
    "    #sentiments\n",
    "    tunedClassifier.fit(commentsTrainVector, sentiments_train)\n",
    "    sentiments_tunedClassifier = copy.deepcopy(tunedClassifier)\n",
    "    sentiments_cv_results = tunedClassifier.cv_results_\n",
    "    df = pd.DataFrame(sentiments_cv_results)\n",
    "\n",
    "    sentiments_pred = tunedClassifier.predict(commentsTestVector)\n",
    "    \n",
    "    print(df[hyperparamsWithParams])\n",
    "    print(tunedClassifier.best_score_)\n",
    "    print(tunedClassifier.best_params_)\n",
    "    print(tunedClassifier.predict(commentsTestVector))\n",
    "\n",
    "    return emotions_pred, sentiments_pred, emotions_tunedClassifier, sentiments_tunedClassifier"
   ]
  },
  {
   "cell_type": "code",
   "execution_count": 18,
   "metadata": {},
   "outputs": [
    {
     "name": "stdout",
     "output_type": "stream",
     "text": [
      "['neutral' 'neutral' 'neutral' ... 'neutral' 'neutral' 'neutral']\n",
      "['neutral' 'neutral' 'neutral' ... 'neutral' 'neutral' 'neutral']\n"
     ]
    }
   ],
   "source": [
    "#2.3.1\n",
    "emotions_baseMNB_pred, sentiments_baseMNB_pred, emotions_baseMNB_classifier, sentiments_baseMNB_classifier = getBaseClassifiersPredictions(MultinomialNB(), commentsTrainVector, commentsTestVector, sentiments_train, emotions_train)"
   ]
  },
  {
   "cell_type": "code",
   "execution_count": 19,
   "metadata": {},
   "outputs": [],
   "source": [
    "#2.3.2\n",
    "# emotions_baseDT_pred, sentiment_baseDT_pred, emotions_baseDT_classifier, sentiments_baseDT_classifier = getBaseClassifiersPredictions(DecisionTreeClassifier(), commentsTrainVector, commentsTestVector, sentiments_train, emotions_train)"
   ]
  },
  {
   "cell_type": "code",
   "execution_count": 20,
   "metadata": {},
   "outputs": [],
   "source": [
    "#2.3.3\n",
    "# emotions_baseMLP_pred, sentiment_baseMLP_pred, emotions_baseMLP_classifier, sentiments_baseMLP_classifier = getBaseClassifiersPredictions(MLPClassifier(max_iter=2), commentsTrainVector, commentsTestVector, sentiments_train, emotions_train)"
   ]
  },
  {
   "cell_type": "code",
   "execution_count": 21,
   "id": "c7d12165",
   "metadata": {},
   "outputs": [],
   "source": [
    " #2.3.4\n",
    "mnb_classifier = MultinomialNB()\n",
    "mnb_params = {\n",
    "    'alpha': [0, 0.5, 1, 10]\n",
    "    }\n",
    "# emotions_topMNB_pred, sentiments_topMNB_pred, emotions_topMNB_tunedClassifier, sentiments_topMNB_tunedClassifier = getGridSearchWithModelAndParams(mnb_classifier, mnb_params, 10, 2, commentsTrainVector, commentsTestVector, sentiments_train, emotions_train)"
   ]
  },
  {
   "cell_type": "code",
   "execution_count": 22,
   "id": "2c1d633b",
   "metadata": {},
   "outputs": [],
   "source": [
    "#2.3.5\n",
    "dt_classifier = DecisionTreeClassifier()\n",
    "dt_params = {\n",
    "    'criterion': ['gini', 'entropy'], # explain why gini or entropy https://quantdare.com/decision-trees-gini-vs-entropy/\n",
    "    'max_depth': [2, 5],\n",
    "    'min_samples_split': [1,2,3]\n",
    "}\n",
    "# emotions_topDT_pred, sentiments_topDT_pred, emotions_topDT_tunedClassifier, sentiments_topDT_tunedClassifier = getGridSearchWithModelAndParams(dt_classifier, dt_params, 5, 2, commentsTrainVector, commentsTestVector, sentiments_train, emotions_train)"
   ]
  },
  {
   "cell_type": "code",
   "execution_count": 23,
   "id": "fad18fe7",
   "metadata": {},
   "outputs": [],
   "source": [
    "#2.3.6\n",
    "mlp_classifier = MLPClassifier(max_iter = 1)\n",
    "mlp_params = {\n",
    "    'activation': ['logistic', 'tanh', 'relu', 'identity'],\n",
    "    'hidden_layer_sizes': [(10, 30), (5,5,5)],\n",
    "    'solver': ['adam', 'sgd']\n",
    "    }\n",
    "# emotions_topMLP_pred, sentiments_topMLP_pred, emotions_topMLP_tunedClassifier, sentiments_topMLP_tunedClassifier = getGridSearchWithModelAndParams(mlp_classifier, mlp_params, 5, 2, commentsTrainVector, commentsTestVector, sentiments_train, emotions_train)"
   ]
  },
  {
   "cell_type": "markdown",
   "id": "61b0e108",
   "metadata": {},
   "source": [
    "## 2.4"
   ]
  },
  {
   "cell_type": "code",
   "execution_count": 39,
   "id": "b7d11c66",
   "metadata": {},
   "outputs": [],
   "source": [
    "def createNewFile(fName):\n",
    "    i = 0\n",
    "    fullFileName = \"./precision/\"+fName+\"_%s.txt\"\n",
    "    while os.path.exists( fullFileName % i):\n",
    "        i += 1\n",
    "\n",
    "    fh = open(fullFileName % i, \"w\")\n",
    "    return fh\n",
    "\n",
    "def generateConfusionMatrix(y_test, y_pred):\n",
    "    confusionMatrix = confusion_matrix(y_test, y_pred)\n",
    "    print(confusionMatrix.shape)\n",
    "    return confusionMatrix\n",
    "\n",
    "\n",
    "def createPrecisionReport(fName, modelName=None, hyperParams=None, emotions_pred=None, sentiments_pred=None, emotions_classifier=None, sentiments_classifier=None):\n",
    "    file = createNewFile(fName)\n",
    "\n",
    "    file.write('Model: \\t'+modelName+'\\n')\n",
    "    file.write('HyperParams: \\n')\n",
    "    if hyperParams is not None:\n",
    "        file.write(json.dumps(hyperParams, indent=4)+'\\n')\n",
    "    file.write('\\n')\n",
    "    file.write('Classifications: Emotions\\n')\n",
    "    file.write(np.array2string(generateConfusionMatrix(emotions_test, emotions_pred)))\n",
    "\n",
    "\n",
    "\n",
    "    file.close()"
   ]
  },
  {
   "cell_type": "code",
   "execution_count": 40,
   "id": "e2069c82",
   "metadata": {},
   "outputs": [
    {
     "name": "stdout",
     "output_type": "stream",
     "text": [
      "(28, 28)\n"
     ]
    }
   ],
   "source": [
    "#BaseMNB\n",
    "createPrecisionReport(\"baseMNB\", modelName = \"base_MultinomialNB\", hyperParams=mlp_params, emotions_pred = emotions_baseMNB_pred, sentiments_pred = sentiments_baseMNB_pred, emotions_classifier = emotions_baseMNB_classifier, sentiments_classifier = sentiments_baseMNB_classifier)"
   ]
  }
 ],
 "metadata": {
  "kernelspec": {
   "display_name": "Python 3.8.10 64-bit",
   "language": "python",
   "name": "python3"
  },
  "language_info": {
   "codemirror_mode": {
    "name": "ipython",
    "version": 3
   },
   "file_extension": ".py",
   "mimetype": "text/x-python",
   "name": "python",
   "nbconvert_exporter": "python",
   "pygments_lexer": "ipython3",
   "version": "3.8.10"
  },
  "vscode": {
   "interpreter": {
    "hash": "bc05976250482631599237727c637934d24d0a51fd13fddcdedff10741267602"
   }
  }
 },
 "nbformat": 4,
 "nbformat_minor": 5
}
