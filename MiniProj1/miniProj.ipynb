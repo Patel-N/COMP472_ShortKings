{
 "cells": [
  {
   "cell_type": "code",
   "execution_count": 16,
   "id": "7340f202",
   "metadata": {},
   "outputs": [],
   "source": [
    "import warnings\n",
    "\n",
    "warnings.filterwarnings(\"ignore\", category=DeprecationWarning) \n",
    "warnings.simplefilter(\"ignore\") \n",
    "\n",
    "from matplotlib import test\n",
    "from sklearn.feature_extraction.text import CountVectorizer\n",
    "from sklearn.model_selection import GridSearchCV, train_test_split\n",
    "from sklearn.naive_bayes import MultinomialNB\n",
    "from sklearn.tree import DecisionTreeClassifier\n",
    "from sklearn.neural_network import MLPClassifier\n",
    "from sklearn.metrics import confusion_matrix\n",
    "from collections import Counter\n",
    "\n",
    "import json\n",
    "import matplotlib.pyplot as plt\n",
    "import gzip\n",
    "import pandas as pd\n",
    "import copy\n",
    "import os\n",
    "import numpy as np\n",
    "from pretty_confusion_matrix import pp_matrix_from_data"
   ]
  },
  {
   "cell_type": "markdown",
   "id": "2f3e2d89",
   "metadata": {},
   "source": [
    "# Part 1"
   ]
  },
  {
   "cell_type": "code",
   "execution_count": 2,
   "id": "00609551",
   "metadata": {},
   "outputs": [],
   "source": [
    "sentiments = []\n",
    "emotions = []\n",
    "comments = []\n",
    "\n",
    "commentsTrainVector = None\n",
    "commentsTestVector = None"
   ]
  },
  {
   "cell_type": "code",
   "execution_count": 3,
   "id": "0fb67324",
   "metadata": {},
   "outputs": [],
   "source": [
    "#1.2\n",
    "emotionsGZIP = gzip.open(\"./goemotions.json.gz\", \"rb\")\n",
    "emotionsJSON = json.load(emotionsGZIP)"
   ]
  },
  {
   "cell_type": "code",
   "execution_count": 4,
   "id": "0fa7f22b",
   "metadata": {},
   "outputs": [],
   "source": [
    "def createPieChart(dict, dictName):\n",
    "    labels = []\n",
    "    values = []\n",
    "    for x,y in dict.items():\n",
    "        labels.append(x)\n",
    "        values.append(y)\n",
    "    plt.pie(values, labels=labels, autopct=lambda p:f'{p:.2f}%, {p*sum(values)/100 :.0f}')\n",
    "    plt.savefig(fname='./graphs/'+dictName+'.pdf', format='pdf')\n",
    "    plt.clf()\n",
    "    "
   ]
  },
  {
   "cell_type": "code",
   "execution_count": 5,
   "id": "aba4719b",
   "metadata": {},
   "outputs": [
    {
     "data": {
      "text/plain": [
       "<Figure size 640x480 with 0 Axes>"
      ]
     },
     "metadata": {},
     "output_type": "display_data"
    }
   ],
   "source": [
    "#1.3\n",
    "for value in emotionsJSON:\n",
    "        emotions.append(value[1])\n",
    "        sentiments.append(value[2])\n",
    "        comments.append(value[0])\n",
    "\n",
    "createPieChart(Counter(emotions), 'emotions_with_values')\n",
    "createPieChart(Counter(sentiments), 'sentiments_with_values')"
   ]
  },
  {
   "cell_type": "markdown",
   "id": "b360d3f1",
   "metadata": {},
   "source": [
    "# Part 2"
   ]
  },
  {
   "cell_type": "code",
   "execution_count": 6,
   "id": "7fe3132c",
   "metadata": {},
   "outputs": [
    {
     "name": "stdout",
     "output_type": "stream",
     "text": [
      "Vocabulary size:  30449\n"
     ]
    }
   ],
   "source": [
    "#2.1\n",
    "vectorizer = CountVectorizer()\n",
    "X  = vectorizer.fit(comments)\n",
    "print(\"Vocabulary size: \", len(X.vocabulary_))"
   ]
  },
  {
   "cell_type": "code",
   "execution_count": 7,
   "id": "a92d22bd",
   "metadata": {},
   "outputs": [],
   "source": [
    "#2.2\n",
    "comments_train, comments_test, sentiments_train, sentiments_test, emotions_train, emotions_test = train_test_split(comments, sentiments, emotions, test_size=0.2, random_state=0)"
   ]
  },
  {
   "cell_type": "markdown",
   "id": "ea451870",
   "metadata": {},
   "source": [
    "## 2.3"
   ]
  },
  {
   "cell_type": "code",
   "execution_count": 8,
   "id": "82dc48d8",
   "metadata": {},
   "outputs": [],
   "source": [
    "#2.3\n",
    "vectorizer = CountVectorizer()\n",
    "commentsTrainVector = vectorizer.fit_transform(comments_train)\n",
    "commentsTestVector = vectorizer.transform(comments_test)\n",
    "\n",
    "\n",
    "def getBaseClassifiersPredictions(classifier, commentsTrainVector, commentsTestVector, sentiments_train, emotions_train):\n",
    "\n",
    "    #emotions\n",
    "    classifier.fit(commentsTrainVector, emotions_train)\n",
    "    emotions_classifier = copy.deepcopy(classifier)\n",
    "    emotions_pred = classifier.predict(commentsTestVector)\n",
    "    print(emotions_pred)\n",
    "\n",
    "    #sentiments\n",
    "    classifier.fit(commentsTrainVector, sentiments_train)\n",
    "    sentiments_classifier = copy.deepcopy(classifier)\n",
    "    sentiments_pred = classifier.predict(commentsTestVector)\n",
    "    print(sentiments_pred)\n",
    "\n",
    "    return emotions_pred, sentiments_pred, emotions_classifier, sentiments_classifier\n",
    "\n",
    "def getGridSearchWithModelAndParams(model, params, cvCount, jobs, commentsTrainVector, commentsTestVector, sentiments_train, emotions_train):\n",
    "    #Setup GridSearch and hyperparams\n",
    "    tunedClassifier = GridSearchCV(model, params, cv=cvCount, n_jobs=jobs)\n",
    "    hyperparams = list(params.keys())\n",
    "    hyperparamsWithParams = ['param_' + paramInList for paramInList in hyperparams]\n",
    "    \n",
    "    #emotions\n",
    "    tunedClassifier.fit(commentsTrainVector, emotions_train)\n",
    "    emotions_tunedClassifier = copy.deepcopy(tunedClassifier)\n",
    "    emotions_cv_results = tunedClassifier.cv_results_\n",
    "    df = pd.DataFrame(emotions_cv_results)\n",
    "    \n",
    "    emotions_pred = tunedClassifier.predict(commentsTestVector)\n",
    "    \n",
    "    print(df[hyperparamsWithParams])\n",
    "    print(tunedClassifier.best_score_)\n",
    "    print(tunedClassifier.best_params_)\n",
    "    print(tunedClassifier.predict(commentsTestVector))\n",
    "\n",
    "    #sentiments\n",
    "    tunedClassifier.fit(commentsTrainVector, sentiments_train)\n",
    "    sentiments_tunedClassifier = copy.deepcopy(tunedClassifier)\n",
    "    sentiments_cv_results = tunedClassifier.cv_results_\n",
    "    df = pd.DataFrame(sentiments_cv_results)\n",
    "\n",
    "    sentiments_pred = tunedClassifier.predict(commentsTestVector)\n",
    "    \n",
    "    print(df[hyperparamsWithParams])\n",
    "    print(tunedClassifier.best_score_)\n",
    "    print(tunedClassifier.best_params_)\n",
    "    print(tunedClassifier.predict(commentsTestVector))\n",
    "\n",
    "    return emotions_pred, sentiments_pred, emotions_tunedClassifier, sentiments_tunedClassifier"
   ]
  },
  {
   "cell_type": "code",
   "execution_count": 9,
   "id": "4aac1191",
   "metadata": {},
   "outputs": [
    {
     "name": "stdout",
     "output_type": "stream",
     "text": [
      "['neutral' 'neutral' 'neutral' ... 'neutral' 'neutral' 'neutral']\n",
      "['neutral' 'neutral' 'neutral' ... 'neutral' 'neutral' 'neutral']\n"
     ]
    }
   ],
   "source": [
    "#2.3.1\n",
    "emotions_baseMNB_pred, sentiments_baseMNB_pred, emotions_baseMNB_classifier, sentiments_baseMNB_classifier = getBaseClassifiersPredictions(MultinomialNB(), commentsTrainVector, commentsTestVector, sentiments_train, emotions_train)"
   ]
  },
  {
   "cell_type": "code",
   "execution_count": 19,
   "id": "e17eca98",
   "metadata": {},
   "outputs": [],
   "source": [
    "#2.3.2\n",
    "# emotions_baseDT_pred, sentiment_baseDT_pred, emotions_baseDT_classifier, sentiments_baseDT_classifier = getBaseClassifiersPredictions(DecisionTreeClassifier(), commentsTrainVector, commentsTestVector, sentiments_train, emotions_train)"
   ]
  },
  {
   "cell_type": "code",
   "execution_count": 20,
   "id": "98ddcc5b",
   "metadata": {},
   "outputs": [],
   "source": [
    "#2.3.3\n",
    "# emotions_baseMLP_pred, sentiment_baseMLP_pred, emotions_baseMLP_classifier, sentiments_baseMLP_classifier = getBaseClassifiersPredictions(MLPClassifier(max_iter=2), commentsTrainVector, commentsTestVector, sentiments_train, emotions_train)"
   ]
  },
  {
   "cell_type": "code",
   "execution_count": 21,
   "id": "c7d12165",
   "metadata": {},
   "outputs": [],
   "source": [
    " #2.3.4\n",
    "mnb_classifier = MultinomialNB()\n",
    "mnb_params = {\n",
    "    'alpha': [0, 0.5, 1, 10]\n",
    "    }\n",
    "# emotions_topMNB_pred, sentiments_topMNB_pred, emotions_topMNB_tunedClassifier, sentiments_topMNB_tunedClassifier = getGridSearchWithModelAndParams(mnb_classifier, mnb_params, 10, 2, commentsTrainVector, commentsTestVector, sentiments_train, emotions_train)"
   ]
  },
  {
   "cell_type": "code",
   "execution_count": 22,
   "id": "2c1d633b",
   "metadata": {},
   "outputs": [],
   "source": [
    "#2.3.5\n",
    "dt_classifier = DecisionTreeClassifier()\n",
    "dt_params = {\n",
    "    'criterion': ['gini', 'entropy'], # explain why gini or entropy https://quantdare.com/decision-trees-gini-vs-entropy/\n",
    "    'max_depth': [2, 5],\n",
    "    'min_samples_split': [1,2,3]\n",
    "}\n",
    "# emotions_topDT_pred, sentiments_topDT_pred, emotions_topDT_tunedClassifier, sentiments_topDT_tunedClassifier = getGridSearchWithModelAndParams(dt_classifier, dt_params, 5, 2, commentsTrainVector, commentsTestVector, sentiments_train, emotions_train)"
   ]
  },
  {
   "cell_type": "code",
   "execution_count": 13,
   "id": "fad18fe7",
   "metadata": {},
   "outputs": [],
   "source": [
    "#2.3.6\n",
    "mlp_classifier = MLPClassifier(max_iter = 1)\n",
    "mlp_params = {\n",
    "    'activation': ['logistic', 'tanh', 'relu', 'identity'],\n",
    "    'hidden_layer_sizes': [(10, 30), (5,5,5)],\n",
    "    'solver': ['adam', 'sgd']\n",
    "    }\n",
    "# emotions_topMLP_pred, sentiments_topMLP_pred, emotions_topMLP_tunedClassifier, sentiments_topMLP_tunedClassifier = getGridSearchWithModelAndParams(mlp_classifier, mlp_params, 5, 2, commentsTrainVector, commentsTestVector, sentiments_train, emotions_train)"
   ]
  },
  {
   "cell_type": "markdown",
   "id": "61b0e108",
   "metadata": {},
   "source": [
    "## 2.4"
   ]
  },
  {
   "cell_type": "code",
   "execution_count": 35,
   "id": "b7d11c66",
   "metadata": {},
   "outputs": [],
   "source": [
    "from sklearn.metrics import plot_confusion_matrix\n",
    "\n",
    "\n",
    "def createNewFile(fName):\n",
    "    i = 0\n",
    "    fullFileName = \"./precision/\"+fName+\"_%s.txt\"\n",
    "    while os.path.exists( fullFileName % i):\n",
    "        i += 1\n",
    "\n",
    "    fh = open(fullFileName % i, \"w\")\n",
    "    return fh\n",
    "\n",
    "def generateConfusionMatrix(clf, X_test, y_test):\n",
    "    # confusionMatrix = confusion_matrix(y_test, y_pred)\n",
    "    # # print(confusionMatrix.shape)\n",
    "    # print(len(set(y_test)))\n",
    "    # print(len(set(y_pred)))\n",
    "    # # print(len(y_pred))\n",
    "    # # print(pp_matrix_from_data(y_test, y_pred))\n",
    "    # return confusionMatrix\n",
    "    plot_confusion_matrix(clf, X_test, y_test)\n",
    "    plt.show()\n",
    "\n",
    "\n",
    "def createPrecisionReport(fName, modelName=None, hyperParams=None, emotions_pred=None, sentiments_pred=None, emotions_classifier=None, sentiments_classifier=None):\n",
    "    file = createNewFile(fName)\n",
    "\n",
    "    file.write('Model: \\t'+modelName+'\\n')\n",
    "    file.write('HyperParams: \\n')\n",
    "    if hyperParams is not None:\n",
    "        file.write(json.dumps(hyperParams, indent=4)+'\\n')\n",
    "    file.write('\\n')\n",
    "    file.write('Classifications: Emotions\\n')\n",
    "    file.write(np.array2string(generateConfusionMatrix(emotions_test, emotions_pred)))\n",
    "\n",
    "\n",
    "\n",
    "    file.close()\n",
    "\n",
    "\n",
    "# https://www.educative.io/answers/how-to-create-a-confusion-matrix-in-python-using-scikit-learn"
   ]
  },
  {
   "cell_type": "code",
   "execution_count": 36,
   "id": "e2069c82",
   "metadata": {},
   "outputs": [
    {
     "ename": "ValueError",
     "evalue": "Expected 2D array, got 1D array instead:\narray=['Who would win: The Green Arrow or 1 Electric Boi'\n \"Level 50 and I started playing a few days after launch. And I've been playing whenever I had free time to finish those daily orders.\"\n 'So why not leave it in his garage with the doors locked?' ...\n 'I don’t think she beat [NAME] but I def believe she hits this dude and [NAME].. none of this is news tho'\n 'Growing up there were people in our church who hated the Smurfs because they were magic using communists.'\n 'The photos are haunting'].\nReshape your data either using array.reshape(-1, 1) if your data has a single feature or array.reshape(1, -1) if it contains a single sample.",
     "output_type": "error",
     "traceback": [
      "\u001b[0;31m---------------------------------------------------------------------------\u001b[0m",
      "\u001b[0;31mValueError\u001b[0m                                Traceback (most recent call last)",
      "Cell \u001b[0;32mIn [36], line 2\u001b[0m\n\u001b[1;32m      1\u001b[0m \u001b[39m#BaseMNB\u001b[39;00m\n\u001b[0;32m----> 2\u001b[0m generateConfusionMatrix(emotions_baseMNB_classifier, comments_test, emotions_test)\n",
      "Cell \u001b[0;32mIn [35], line 21\u001b[0m, in \u001b[0;36mgenerateConfusionMatrix\u001b[0;34m(clf, X_test, y_test)\u001b[0m\n\u001b[1;32m     13\u001b[0m \u001b[39mdef\u001b[39;00m \u001b[39mgenerateConfusionMatrix\u001b[39m(clf, X_test, y_test):\n\u001b[1;32m     14\u001b[0m     \u001b[39m# confusionMatrix = confusion_matrix(y_test, y_pred)\u001b[39;00m\n\u001b[1;32m     15\u001b[0m     \u001b[39m# # print(confusionMatrix.shape)\u001b[39;00m\n\u001b[0;32m   (...)\u001b[0m\n\u001b[1;32m     19\u001b[0m     \u001b[39m# # print(pp_matrix_from_data(y_test, y_pred))\u001b[39;00m\n\u001b[1;32m     20\u001b[0m     \u001b[39m# return confusionMatrix\u001b[39;00m\n\u001b[0;32m---> 21\u001b[0m     plot_confusion_matrix(clf, X_test, y_test)\n\u001b[1;32m     22\u001b[0m     plt\u001b[39m.\u001b[39mshow()\n",
      "File \u001b[0;32m~/.pyenv/versions/3.9.11/lib/python3.9/site-packages/sklearn/utils/deprecation.py:88\u001b[0m, in \u001b[0;36mdeprecated._decorate_fun.<locals>.wrapped\u001b[0;34m(*args, **kwargs)\u001b[0m\n\u001b[1;32m     85\u001b[0m \u001b[39m@functools\u001b[39m\u001b[39m.\u001b[39mwraps(fun)\n\u001b[1;32m     86\u001b[0m \u001b[39mdef\u001b[39;00m \u001b[39mwrapped\u001b[39m(\u001b[39m*\u001b[39margs, \u001b[39m*\u001b[39m\u001b[39m*\u001b[39mkwargs):\n\u001b[1;32m     87\u001b[0m     warnings\u001b[39m.\u001b[39mwarn(msg, category\u001b[39m=\u001b[39m\u001b[39mFutureWarning\u001b[39;00m)\n\u001b[0;32m---> 88\u001b[0m     \u001b[39mreturn\u001b[39;00m fun(\u001b[39m*\u001b[39;49margs, \u001b[39m*\u001b[39;49m\u001b[39m*\u001b[39;49mkwargs)\n",
      "File \u001b[0;32m~/.pyenv/versions/3.9.11/lib/python3.9/site-packages/sklearn/metrics/_plot/confusion_matrix.py:584\u001b[0m, in \u001b[0;36mplot_confusion_matrix\u001b[0;34m(estimator, X, y_true, labels, sample_weight, normalize, display_labels, include_values, xticks_rotation, values_format, cmap, ax, colorbar)\u001b[0m\n\u001b[1;32m    581\u001b[0m \u001b[39mif\u001b[39;00m \u001b[39mnot\u001b[39;00m is_classifier(estimator):\n\u001b[1;32m    582\u001b[0m     \u001b[39mraise\u001b[39;00m \u001b[39mValueError\u001b[39;00m(\u001b[39m\"\u001b[39m\u001b[39mplot_confusion_matrix only supports classifiers\u001b[39m\u001b[39m\"\u001b[39m)\n\u001b[0;32m--> 584\u001b[0m y_pred \u001b[39m=\u001b[39m estimator\u001b[39m.\u001b[39;49mpredict(X)\n\u001b[1;32m    585\u001b[0m cm \u001b[39m=\u001b[39m confusion_matrix(\n\u001b[1;32m    586\u001b[0m     y_true, y_pred, sample_weight\u001b[39m=\u001b[39msample_weight, labels\u001b[39m=\u001b[39mlabels, normalize\u001b[39m=\u001b[39mnormalize\n\u001b[1;32m    587\u001b[0m )\n\u001b[1;32m    589\u001b[0m \u001b[39mif\u001b[39;00m display_labels \u001b[39mis\u001b[39;00m \u001b[39mNone\u001b[39;00m:\n",
      "File \u001b[0;32m~/.pyenv/versions/3.9.11/lib/python3.9/site-packages/sklearn/naive_bayes.py:80\u001b[0m, in \u001b[0;36m_BaseNB.predict\u001b[0;34m(self, X)\u001b[0m\n\u001b[1;32m     66\u001b[0m \u001b[39m\"\"\"\u001b[39;00m\n\u001b[1;32m     67\u001b[0m \u001b[39mPerform classification on an array of test vectors X.\u001b[39;00m\n\u001b[1;32m     68\u001b[0m \n\u001b[0;32m   (...)\u001b[0m\n\u001b[1;32m     77\u001b[0m \u001b[39m    Predicted target values for X.\u001b[39;00m\n\u001b[1;32m     78\u001b[0m \u001b[39m\"\"\"\u001b[39;00m\n\u001b[1;32m     79\u001b[0m check_is_fitted(\u001b[39mself\u001b[39m)\n\u001b[0;32m---> 80\u001b[0m X \u001b[39m=\u001b[39m \u001b[39mself\u001b[39;49m\u001b[39m.\u001b[39;49m_check_X(X)\n\u001b[1;32m     81\u001b[0m jll \u001b[39m=\u001b[39m \u001b[39mself\u001b[39m\u001b[39m.\u001b[39m_joint_log_likelihood(X)\n\u001b[1;32m     82\u001b[0m \u001b[39mreturn\u001b[39;00m \u001b[39mself\u001b[39m\u001b[39m.\u001b[39mclasses_[np\u001b[39m.\u001b[39margmax(jll, axis\u001b[39m=\u001b[39m\u001b[39m1\u001b[39m)]\n",
      "File \u001b[0;32m~/.pyenv/versions/3.9.11/lib/python3.9/site-packages/sklearn/naive_bayes.py:549\u001b[0m, in \u001b[0;36m_BaseDiscreteNB._check_X\u001b[0;34m(self, X)\u001b[0m\n\u001b[1;32m    547\u001b[0m \u001b[39mdef\u001b[39;00m \u001b[39m_check_X\u001b[39m(\u001b[39mself\u001b[39m, X):\n\u001b[1;32m    548\u001b[0m     \u001b[39m\"\"\"Validate X, used only in predict* methods.\"\"\"\u001b[39;00m\n\u001b[0;32m--> 549\u001b[0m     \u001b[39mreturn\u001b[39;00m \u001b[39mself\u001b[39;49m\u001b[39m.\u001b[39;49m_validate_data(X, accept_sparse\u001b[39m=\u001b[39;49m\u001b[39m\"\u001b[39;49m\u001b[39mcsr\u001b[39;49m\u001b[39m\"\u001b[39;49m, reset\u001b[39m=\u001b[39;49m\u001b[39mFalse\u001b[39;49;00m)\n",
      "File \u001b[0;32m~/.pyenv/versions/3.9.11/lib/python3.9/site-packages/sklearn/base.py:577\u001b[0m, in \u001b[0;36mBaseEstimator._validate_data\u001b[0;34m(self, X, y, reset, validate_separately, **check_params)\u001b[0m\n\u001b[1;32m    575\u001b[0m     \u001b[39mraise\u001b[39;00m \u001b[39mValueError\u001b[39;00m(\u001b[39m\"\u001b[39m\u001b[39mValidation should be done on X, y or both.\u001b[39m\u001b[39m\"\u001b[39m)\n\u001b[1;32m    576\u001b[0m \u001b[39melif\u001b[39;00m \u001b[39mnot\u001b[39;00m no_val_X \u001b[39mand\u001b[39;00m no_val_y:\n\u001b[0;32m--> 577\u001b[0m     X \u001b[39m=\u001b[39m check_array(X, input_name\u001b[39m=\u001b[39;49m\u001b[39m\"\u001b[39;49m\u001b[39mX\u001b[39;49m\u001b[39m\"\u001b[39;49m, \u001b[39m*\u001b[39;49m\u001b[39m*\u001b[39;49mcheck_params)\n\u001b[1;32m    578\u001b[0m     out \u001b[39m=\u001b[39m X\n\u001b[1;32m    579\u001b[0m \u001b[39melif\u001b[39;00m no_val_X \u001b[39mand\u001b[39;00m \u001b[39mnot\u001b[39;00m no_val_y:\n",
      "File \u001b[0;32m~/.pyenv/versions/3.9.11/lib/python3.9/site-packages/sklearn/utils/validation.py:879\u001b[0m, in \u001b[0;36mcheck_array\u001b[0;34m(array, accept_sparse, accept_large_sparse, dtype, order, copy, force_all_finite, ensure_2d, allow_nd, ensure_min_samples, ensure_min_features, estimator, input_name)\u001b[0m\n\u001b[1;32m    877\u001b[0m     \u001b[39m# If input is 1D raise error\u001b[39;00m\n\u001b[1;32m    878\u001b[0m     \u001b[39mif\u001b[39;00m array\u001b[39m.\u001b[39mndim \u001b[39m==\u001b[39m \u001b[39m1\u001b[39m:\n\u001b[0;32m--> 879\u001b[0m         \u001b[39mraise\u001b[39;00m \u001b[39mValueError\u001b[39;00m(\n\u001b[1;32m    880\u001b[0m             \u001b[39m\"\u001b[39m\u001b[39mExpected 2D array, got 1D array instead:\u001b[39m\u001b[39m\\n\u001b[39;00m\u001b[39marray=\u001b[39m\u001b[39m{}\u001b[39;00m\u001b[39m.\u001b[39m\u001b[39m\\n\u001b[39;00m\u001b[39m\"\u001b[39m\n\u001b[1;32m    881\u001b[0m             \u001b[39m\"\u001b[39m\u001b[39mReshape your data either using array.reshape(-1, 1) if \u001b[39m\u001b[39m\"\u001b[39m\n\u001b[1;32m    882\u001b[0m             \u001b[39m\"\u001b[39m\u001b[39myour data has a single feature or array.reshape(1, -1) \u001b[39m\u001b[39m\"\u001b[39m\n\u001b[1;32m    883\u001b[0m             \u001b[39m\"\u001b[39m\u001b[39mif it contains a single sample.\u001b[39m\u001b[39m\"\u001b[39m\u001b[39m.\u001b[39mformat(array)\n\u001b[1;32m    884\u001b[0m         )\n\u001b[1;32m    886\u001b[0m \u001b[39mif\u001b[39;00m dtype_numeric \u001b[39mand\u001b[39;00m array\u001b[39m.\u001b[39mdtype\u001b[39m.\u001b[39mkind \u001b[39min\u001b[39;00m \u001b[39m\"\u001b[39m\u001b[39mUSV\u001b[39m\u001b[39m\"\u001b[39m:\n\u001b[1;32m    887\u001b[0m     \u001b[39mraise\u001b[39;00m \u001b[39mValueError\u001b[39;00m(\n\u001b[1;32m    888\u001b[0m         \u001b[39m\"\u001b[39m\u001b[39mdtype=\u001b[39m\u001b[39m'\u001b[39m\u001b[39mnumeric\u001b[39m\u001b[39m'\u001b[39m\u001b[39m is not compatible with arrays of bytes/strings.\u001b[39m\u001b[39m\"\u001b[39m\n\u001b[1;32m    889\u001b[0m         \u001b[39m\"\u001b[39m\u001b[39mConvert your data to numeric values explicitly instead.\u001b[39m\u001b[39m\"\u001b[39m\n\u001b[1;32m    890\u001b[0m     )\n",
      "\u001b[0;31mValueError\u001b[0m: Expected 2D array, got 1D array instead:\narray=['Who would win: The Green Arrow or 1 Electric Boi'\n \"Level 50 and I started playing a few days after launch. And I've been playing whenever I had free time to finish those daily orders.\"\n 'So why not leave it in his garage with the doors locked?' ...\n 'I don’t think she beat [NAME] but I def believe she hits this dude and [NAME].. none of this is news tho'\n 'Growing up there were people in our church who hated the Smurfs because they were magic using communists.'\n 'The photos are haunting'].\nReshape your data either using array.reshape(-1, 1) if your data has a single feature or array.reshape(1, -1) if it contains a single sample."
     ]
    }
   ],
   "source": [
    "#BaseMNB\n",
    "generateConfusionMatrix(emotions_baseMNB_classifier, comments_test, emotions_test)\n",
    "# createPrecisionReport(\"baseMNB\", modelName = \"base_MultinomialNB\", hyperParams=mlp_params, emotions_pred = emotions_baseMNB_pred, sentiments_pred = sentiments_baseMNB_pred, emotions_classifier = emotions_baseMNB_classifier, sentiments_classifier = sentiments_baseMNB_classifier)"
   ]
  }
 ],
 "metadata": {
  "kernelspec": {
   "display_name": "Python 3.9.11 64-bit ('3.9.11')",
   "language": "python",
   "name": "python3"
  },
  "language_info": {
   "codemirror_mode": {
    "name": "ipython",
    "version": 3
   },
   "file_extension": ".py",
   "mimetype": "text/x-python",
   "name": "python",
   "nbconvert_exporter": "python",
   "pygments_lexer": "ipython3",
   "version": "3.9.11"
  },
  "vscode": {
   "interpreter": {
    "hash": "d90f6532268e2ba1d590c7b6dcde19dbe5a019d98f28c6ea6710d1da3d032104"
   }
  }
 },
 "nbformat": 4,
 "nbformat_minor": 5
}
