{
 "cells": [
  {
   "cell_type": "code",
   "execution_count": 7,
   "id": "2c22bcd0-df2c-4c8b-9152-792c296a1c95",
   "metadata": {},
   "outputs": [],
   "source": [
    "import warnings\n",
    "\n",
    "warnings.filterwarnings(\"ignore\", category=DeprecationWarning) \n",
    "warnings.simplefilter(\"ignore\") \n",
    "\n",
    "from matplotlib import test\n",
    "from sklearn.feature_extraction.text import CountVectorizer\n",
    "from sklearn.model_selection import GridSearchCV, train_test_split\n",
    "from sklearn.naive_bayes import MultinomialNB\n",
    "from sklearn.tree import DecisionTreeClassifier\n",
    "from sklearn.neural_network import MLPClassifier\n",
    "from collections import Counter\n",
    "\n",
    "import json\n",
    "import matplotlib.pyplot as plt\n",
    "import gzip\n",
    "import pandas as pd"
   ]
  },
  {
   "cell_type": "code",
   "execution_count": 8,
   "id": "09fce923-6e42-43d4-9c9d-3a4710b4e288",
   "metadata": {
    "tags": []
   },
   "outputs": [],
   "source": [
    "emotionsGZIP = gzip.open(\"./goemotions.json.gz\", \"rb\")\n",
    "emotionsJSON = json.load(emotionsGZIP)\n",
    "\n",
    "classification = []\n",
    "emotions = []\n",
    "comments = []"
   ]
  },
  {
   "cell_type": "code",
   "execution_count": 9,
   "id": "b7bd1d7a-fe20-4a0b-b6d0-fc0a38839f8b",
   "metadata": {},
   "outputs": [],
   "source": [
    "def createPieChart(dict, dictName):\n",
    "    labels = []\n",
    "    values = []\n",
    "    for x,y in dict.items():\n",
    "        labels.append(x)\n",
    "        values.append(y)\n",
    "    plt.pie(values, labels=labels, autopct=lambda p:f'{p:.2f}%, {p*sum(values)/100 :.0f}')\n",
    "    plt.savefig('./graphs/'+dictName)\n",
    "    plt.clf()\n",
    "\n",
    "\n",
    "def getVocabulary():\n",
    "    vectorizer = CountVectorizer()\n",
    "    X  = vectorizer.fit(comments)\n",
    "    print(\"Vocabulary size: \", len(X.vocabulary_))\n",
    "\n",
    "def run_q1():\n",
    "    createPieChart(Counter(emotions), 'emotions_with_values')\n",
    "    createPieChart(Counter(classification), 'classification_with_values')\n",
    "    return comments, classification, emotions\n",
    "\n",
    "\n",
    "def readData():\n",
    "    for value in emotionsJSON:\n",
    "        emotions.append(value[1])\n",
    "        classification.append(value[2])\n",
    "        comments.append(value[0])\n",
    "\n"
   ]
  },
  {
   "cell_type": "code",
   "execution_count": 10,
   "id": "7ababc10-48a8-47c9-addc-73a594b0f39d",
   "metadata": {},
   "outputs": [],
   "source": [
    "\n",
    "def getBaseClassifiersPredictions(classifier, commentsTrainVector, commentsTestVector, classification_train, emotions_train):\n",
    "\n",
    "    #emotions\n",
    "    classifier.fit(commentsTrainVector, emotions_train)\n",
    "    emotions_pred = classifier.predict(commentsTestVector)\n",
    "\n",
    "    #classifications\n",
    "    classifier.fit(commentsTrainVector, classification_train)\n",
    "    classifications_pred = classifier.predict(commentsTestVector)\n",
    "\n",
    "    return emotions_pred, classifications_pred\n",
    "\n",
    "def getGridSearchWithModelAndParams(model, params, cvCount, iterations, commentsTrainVector, commentsTestVector, classification_train, emotions_train):\n",
    "    tunedClassifier = GridSearchCV(model, params, cv=10, n_jobs=2)\n",
    "    \n",
    "    #emotions\n",
    "    tunedClassifier.fit(commentsTrainVector, emotions_train)\n",
    "    df = pd.DataFrame(tunedClassifier.cv_results_)\n",
    "    \n",
    "    emotions_pred = tunedClassifier.predict(commentsTestVector)\n",
    "    \n",
    "    print(df[['param_alpha', 'mean_test_score', 'rank_test_score']])\n",
    "    print(tunedClassifier.best_score_)\n",
    "    print(tunedClassifier.best_params_)\n",
    "    print(tunedClassifier.predict(commentsTestVector))\n",
    "\n",
    "    #classifications\n",
    "    tunedClassifier.fit(commentsTrainVector, classification_train)\n",
    "    df = pd.DataFrame(tunedClassifier.cv_results_)\n",
    "\n",
    "    classifications_pred = tunedClassifier.predict(commentsTestVector)\n",
    "    \n",
    "    print(df[['param_alpha', 'mean_test_score', 'rank_test_score']])\n",
    "    print(tunedClassifier.best_score_)\n",
    "    print(tunedClassifier.best_params_)\n",
    "    print(tunedClassifier.predict(commentsTestVector))\n",
    "\n",
    "    return emotions_pred, classifications_pred\n",
    "\n",
    "\n",
    "def run_q2():\n",
    "    #2.1\n",
    "    getVocabulary()\n",
    "\n",
    "    #2.2\n",
    "    comments_train, comments_test, classification_train, classification_test, emotions_train, emotions_test = train_test_split(comments, classification, emotions, test_size=0.2, random_state=0)\n",
    "    \n",
    "    #2.3\n",
    "    vectorizer = CountVectorizer()\n",
    "    commentsTrainVector = vectorizer.fit_transform(comments_train)\n",
    "    commentsTestVector = vectorizer.transform(comments_test)\n",
    "\n",
    "    #2.3.1\n",
    "    # getBaseClassifiersPredictions(MultinomialNB(), commentsTrainVector, commentsTestVector, classification_train, emotions_train)\n",
    "    \n",
    "    #2.3.2\n",
    "    # getBaseClassifiersPredictions(DecisionTreeClassifier(), commentsTrainVector, commentsTestVector, classification_train, emotions_train)\n",
    "    \n",
    "    #2.3.3\n",
    "    # getBaseClassifiersPredictions(MLPClassifier(), commentsTrainVector, commentsTestVector, classification_train, emotions_train)\n",
    "\n",
    "    #2.3.4\n",
    "    mnb_classifier = MultinomialNB()\n",
    "    mnb_params = {'alpha': [0, 0.5, 1, 10]}\n",
    "    # getGridSearchWithModelAndParams(mnb_classifier, mnb_params, 10, 2, commentsTrainVector, commentsTestVector, classification_train, emotions_train)\n",
    "    \n",
    "    #2.3.5\n",
    "    dt_classifier = DecisionTreeClassifier()\n",
    "    dt_params = {\n",
    "        'criterion': ['gini', 'entropy'],\n",
    "        'max_depth': [800, 1000],\n",
    "        'min_samples_split': [4, 8, 16]\n",
    "    }\n",
    "    getGridSearchWithModelAndParams(dt_classifier, dt_params, 10, 1, commentsTrainVector, commentsTestVector, classification_train, emotions_train)"
   ]
  },
  {
   "cell_type": "code",
   "execution_count": null,
   "id": "7b73f501-2adc-4b02-8f08-3120780174c9",
   "metadata": {},
   "outputs": [
    {
     "name": "stdout",
     "output_type": "stream",
     "text": [
      "Vocabulary size:  30449\n"
     ]
    }
   ],
   "source": [
    "#1.2\n",
    "readData()\n",
    "#1.3\n",
    "# run_q1()\n",
    "run_q2()"
   ]
  },
  {
   "cell_type": "code",
   "execution_count": null,
   "id": "46fc68d4-9099-4e89-9625-c80967417139",
   "metadata": {},
   "outputs": [],
   "source": []
  }
 ],
 "metadata": {
  "kernelspec": {
   "display_name": "Python 3.9.11 64-bit ('3.9.11')",
   "language": "python",
   "name": "python3"
  },
  "language_info": {
   "codemirror_mode": {
    "name": "ipython",
    "version": 3
   },
   "file_extension": ".py",
   "mimetype": "text/x-python",
   "name": "python",
   "nbconvert_exporter": "python",
   "pygments_lexer": "ipython3",
   "version": "3.9.11"
  },
  "vscode": {
   "interpreter": {
    "hash": "d90f6532268e2ba1d590c7b6dcde19dbe5a019d98f28c6ea6710d1da3d032104"
   }
  }
 },
 "nbformat": 4,
 "nbformat_minor": 5
}
